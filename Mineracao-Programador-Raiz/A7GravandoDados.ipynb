{
 "cells": [
  {
   "cell_type": "markdown",
   "metadata": {},
   "source": [
    "# Minerando Dados de Um Log De Acesso"
   ]
  },
  {
   "cell_type": "markdown",
   "metadata": {},
   "source": [
    "![title](ME_MinerandoLog.png)"
   ]
  },
  {
   "cell_type": "code",
   "execution_count": 1,
   "metadata": {},
   "outputs": [],
   "source": [
    "arquivo = open(\"access.log\", encoding = \"utf-8\",  errors = \"ignore\")\n",
    "dados = arquivo.read()\n",
    "arquivo.close()\n",
    "\n",
    "paginas = []\n",
    "item = \"\"\n",
    "estado = 1\n",
    "\n",
    "for c in dados:\n",
    "    if estado == 1:\n",
    "        if c != \"]\":\n",
    "            estado = 1\n",
    "        else:\n",
    "            estado = 2\n",
    "    elif estado == 2:\n",
    "        if c != \" \":\n",
    "            estado = 2\n",
    "        else:\n",
    "            estado = 3\n",
    "    elif estado == 3:\n",
    "        if c != \" \":\n",
    "            estado = 3\n",
    "        else:\n",
    "            estado = 4\n",
    "    elif estado == 4:\n",
    "        if c != \" \":\n",
    "            item = item + c\n",
    "            estado = 4\n",
    "        else:\n",
    "            paginas.append(item)\n",
    "            item = \"\"\n",
    "            estado = 1"
   ]
  },
  {
   "cell_type": "code",
   "execution_count": 2,
   "metadata": {},
   "outputs": [
    {
     "name": "stdout",
     "output_type": "stream",
     "text": [
      "['/modules/mod_bowslideshow/tmpl/css/bowslideshow.css', '/templates/_system/css/general.css', '/media/system/js/caption.js', '/templates/jp_hotel/css/template.css', '/templates/jp_hotel/css/layout.css', '/templates/jp_hotel/css/menu.css', '/templates/jp_hotel/css/suckerfish.css', '/templates/jp_hotel/js/moomenu.js', '/modules/mod_bowslideshow/tmpl/js/sliderman.1.3.0.js', '/media/system/js/mootools.js', '/images/stories/slideshow/almhuette_raith_01.jpg', '/images/stories/slideshow/almhuette_raith_02.jpg', '/images/stories/slideshow/almhuette_raith_03.jpg', '/images/stories/slideshow/almhuette_raith_06.jpg', '/images/stories/slideshow/almhuette_raith_04.jpg', '/images/stories/slideshow/almhuette_raith_05.jpg', '/templates/jp_hotel/images/logo.jpg', '/images/stories/slideshow/almhuette_raith_07.jpg', '/images/stories/raith/almhuette_raith.jpg', '/images/stories/raith/wohnraum.jpg', '/images/stories/raith/grillplatz.jpg', '/images/stories/raith/almenland_logo.jpg', '/images/stories/raith/oststeiermark.png', '/images/stories/raith/garage.jpg', '/images/stories/raith/steiermark_herz.png', '/modules/mod_bowslideshow/tmpl/images/image_shadow.png', '/templates/jp_hotel/images/content_heading.gif', '/images/bg_raith.jpg', '/templates/jp_hotel/images/module_heading.gif', '/images/stories/slideshow/almhuette_raith_02.jpg', '/images/stories/slideshow/almhuette_raith_04.jpg', '/images/stories/slideshow/almhuette_raith_05.jpg', '/images/stories/slideshow/almhuette_raith_06.jpg', '/images/stories/slideshow/almhuette_raith_03.jpg', '/images/stories/slideshow/almhuette_raith_01.jpg', '/images/stories/slideshow/almhuette_raith_07.jpg']\n"
     ]
    }
   ],
   "source": [
    "print(paginas)"
   ]
  },
  {
   "cell_type": "code",
   "execution_count": 3,
   "metadata": {},
   "outputs": [],
   "source": [
    "arq = open(\"recursos.txt\", \"w\")\n",
    "\n",
    "for p in paginas:\n",
    "    arq.write(p + \"\\n\")\n",
    "    \n",
    "arq.close()"
   ]
  },
  {
   "cell_type": "code",
   "execution_count": 4,
   "metadata": {},
   "outputs": [],
   "source": [
    "import pandas as pd"
   ]
  },
  {
   "cell_type": "code",
   "execution_count": 7,
   "metadata": {},
   "outputs": [
    {
     "data": {
      "text/html": [
       "<div>\n",
       "<style scoped>\n",
       "    .dataframe tbody tr th:only-of-type {\n",
       "        vertical-align: middle;\n",
       "    }\n",
       "\n",
       "    .dataframe tbody tr th {\n",
       "        vertical-align: top;\n",
       "    }\n",
       "\n",
       "    .dataframe thead th {\n",
       "        text-align: right;\n",
       "    }\n",
       "</style>\n",
       "<table border=\"1\" class=\"dataframe\">\n",
       "  <thead>\n",
       "    <tr style=\"text-align: right;\">\n",
       "      <th></th>\n",
       "      <th>/modules/mod_bowslideshow/tmpl/css/bowslideshow.css</th>\n",
       "    </tr>\n",
       "  </thead>\n",
       "  <tbody>\n",
       "    <tr>\n",
       "      <th>0</th>\n",
       "      <td>/templates/_system/css/general.css</td>\n",
       "    </tr>\n",
       "    <tr>\n",
       "      <th>1</th>\n",
       "      <td>/media/system/js/caption.js</td>\n",
       "    </tr>\n",
       "    <tr>\n",
       "      <th>2</th>\n",
       "      <td>/templates/jp_hotel/css/template.css</td>\n",
       "    </tr>\n",
       "    <tr>\n",
       "      <th>3</th>\n",
       "      <td>/templates/jp_hotel/css/layout.css</td>\n",
       "    </tr>\n",
       "    <tr>\n",
       "      <th>4</th>\n",
       "      <td>/templates/jp_hotel/css/menu.css</td>\n",
       "    </tr>\n",
       "  </tbody>\n",
       "</table>\n",
       "</div>"
      ],
      "text/plain": [
       "  /modules/mod_bowslideshow/tmpl/css/bowslideshow.css\n",
       "0                 /templates/_system/css/general.css \n",
       "1                        /media/system/js/caption.js \n",
       "2               /templates/jp_hotel/css/template.css \n",
       "3                 /templates/jp_hotel/css/layout.css \n",
       "4                   /templates/jp_hotel/css/menu.css "
      ]
     },
     "execution_count": 7,
     "metadata": {},
     "output_type": "execute_result"
    }
   ],
   "source": [
    "df = pd.read_csv('recursos.txt',sep=\",\" ,encoding=\"utf-8\")\n",
    "df.head()"
   ]
  },
  {
   "cell_type": "code",
   "execution_count": null,
   "metadata": {},
   "outputs": [],
   "source": []
  }
 ],
 "metadata": {
  "kernelspec": {
   "display_name": "Python 3",
   "language": "python",
   "name": "python3"
  },
  "language_info": {
   "codemirror_mode": {
    "name": "ipython",
    "version": 3
   },
   "file_extension": ".py",
   "mimetype": "text/x-python",
   "name": "python",
   "nbconvert_exporter": "python",
   "pygments_lexer": "ipython3",
   "version": "3.8.8"
  }
 },
 "nbformat": 4,
 "nbformat_minor": 4
}
