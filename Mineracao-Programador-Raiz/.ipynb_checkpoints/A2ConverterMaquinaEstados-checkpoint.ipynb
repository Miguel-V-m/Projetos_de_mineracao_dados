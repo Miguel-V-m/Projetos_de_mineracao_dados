{
 "cells": [
  {
   "cell_type": "markdown",
   "metadata": {},
   "source": [
    "# Convertendo uma Máquina de Estados em Código Python\n"
   ]
  },
  {
   "cell_type": "markdown",
   "metadata": {},
   "source": [
    "A máquina de estados mostrada a seguir extrai o primeiro valor monetário encontrado em qualquer string, desde que esse valor siga o seguinte padrão: $X,X_\n",
    "\n",
    "Sendo que:\n",
    "\n",
    "* X = Um ou mais caracteres\n",
    "* _ = Um ou mais espaços\n",
    "\n",
    "Para exemplificar a aplicação da máquina de estados apresentada, será considerada a seguinte string:\n",
    "\n",
    "\"A cotação do dólar em torno de R$4,00 tem sido algo constante nos últimos meses.\""
   ]
  },
  {
   "cell_type": "markdown",
   "metadata": {},
   "source": [
    "![title](DiagramaME.png)"
   ]
  },
  {
   "cell_type": "markdown",
   "metadata": {},
   "source": [
    "Para converter a máquina de estados apresentada acima em código Python, será necessário inicialmente criar três variáveis, sendo a primeira chamada \"texto\" contendo a string que será processada. A segunda variável, chamada \"valor\", conterá o valor monetário que será minerado da string. Finalmente a terceira variável, chamada \"estado\", será utilizada para armazenar o estado atual da máquina de estados em que o algorítmo estiver no momento."
   ]
  },
  {
   "cell_type": "code",
   "execution_count": 12,
   "metadata": {},
   "outputs": [],
   "source": [
    "texto = \"A cotação do dólar em torno de R$4,00 tem sido algo constante nos últimos meses.\"\n",
    "valor = \"\"\n",
    "estado = 1"
   ]
  },
  {
   "cell_type": "markdown",
   "metadata": {},
   "source": [
    "Em seguida será criado um laço \"for\" responsável por iterar sobre cada caracter contido na variável \"texto\" e executar o processamento apropriado de acordo com o que é apresentado na máquina de estados. Dentro do laço \"for\" cada estado é representado da forma como é apresentado abaixo:\n",
    "\n",
    "```python\n",
    "for c in texto:\n",
    "    if estado == 1:\n",
    "        .\n",
    "        .\n",
    "        .\n",
    "    elif estado == 2:\n",
    "        .\n",
    "        .\n",
    "        .\n",
    "````\n",
    "Dentro de cada bloco \"if\" da estrutura mostrada acima são executadas as instruções apropriadas conforme é apresentado no diagrama de máquina de estados."
   ]
  },
  {
   "cell_type": "code",
   "execution_count": 21,
   "metadata": {},
   "outputs": [
    {
     "name": "stdout",
     "output_type": "stream",
     "text": [
      "R$4,00A\n"
     ]
    }
   ],
   "source": [
    "for c in texto:\n",
    "    if estado == 1:\n",
    "        if c != \"$\":\n",
    "            estado = 1\n",
    "        elif c == \"$\":\n",
    "            estado = 2\n",
    "            \n",
    "    elif estado == 2:\n",
    "        if c != \" \":\n",
    "            valor  = valor + c\n",
    "            estado = 2\n",
    "        elif c == \" \":\n",
    "            print(\"R$\" + valor)\n",
    "            break"
   ]
  },
  {
   "cell_type": "markdown",
   "metadata": {},
   "source": [
    "Como pode ser observado no resultado acima, o código criado a partir do diagrama de máquina de estados apresentado executou com sucesso a tarefa de extrair o valor monetário da string armazenada na variável \"texto\"."
   ]
  },
  {
   "cell_type": "markdown",
   "metadata": {},
   "source": [
    "## outro exemplo ilustrativo"
   ]
  },
  {
   "cell_type": "code",
   "execution_count": 19,
   "metadata": {},
   "outputs": [],
   "source": [
    "text = 'O valor do produto que é igual a R$1200,00 não pode ser considerado alto.'\n",
    "val = ''\n",
    "state = 1"
   ]
  },
  {
   "cell_type": "code",
   "execution_count": 27,
   "metadata": {},
   "outputs": [],
   "source": [
    "for l in text:\n",
    "    if state == 1:\n",
    "        if l != \"$\":\n",
    "            state = 1\n",
    "        elif l == \"$\":\n",
    "            state = 2\n",
    "            \n",
    "    elif state == 2:\n",
    "        if l != \"\":\n",
    "            val = val + l\n",
    "            state  = 2\n",
    "        elif l == \"\":\n",
    "            print(\"R$\" + val)\n",
    "            break  "
   ]
  },
  {
   "cell_type": "code",
   "execution_count": 29,
   "metadata": {},
   "outputs": [
    {
     "name": "stdout",
     "output_type": "stream",
     "text": [
      "R$1200,00O valor do produto que é igual a R$1200,00 não pode ser considerado alto.O valor do produto que é igual a R$1200,00 não pode ser considerado alto.O valor do produto que é igual a R$1200,00 não pode ser considerado alto.O valor do produto que é igual a R$1200,00 não pode ser considerado alto.O valor do produto que é igual a R$1200,00 não pode ser considerado alto.OO\n"
     ]
    }
   ],
   "source": [
    "for c in text:\n",
    "    if state == 1:\n",
    "        if c != \"$\":\n",
    "            state = 1\n",
    "        elif c == \"$\":\n",
    "            state = 2\n",
    "            \n",
    "    elif state == 2:\n",
    "        if c != \" \":\n",
    "            val  = val + c\n",
    "            state = 2\n",
    "        elif c == \" \":\n",
    "            print(\"R$\" + val)\n",
    "            break"
   ]
  },
  {
   "cell_type": "code",
   "execution_count": null,
   "metadata": {},
   "outputs": [],
   "source": []
  }
 ],
 "metadata": {
  "kernelspec": {
   "display_name": "Python 3",
   "language": "python",
   "name": "python3"
  },
  "language_info": {
   "codemirror_mode": {
    "name": "ipython",
    "version": 3
   },
   "file_extension": ".py",
   "mimetype": "text/x-python",
   "name": "python",
   "nbconvert_exporter": "python",
   "pygments_lexer": "ipython3",
   "version": "3.8.8"
  }
 },
 "nbformat": 4,
 "nbformat_minor": 4
}
