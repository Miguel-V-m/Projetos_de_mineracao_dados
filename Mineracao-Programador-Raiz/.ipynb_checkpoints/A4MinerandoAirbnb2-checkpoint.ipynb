{
 "cells": [
  {
   "cell_type": "markdown",
   "metadata": {},
   "source": [
    "# Minerando o Airbnb"
   ]
  },
  {
   "cell_type": "markdown",
   "metadata": {},
   "source": [
    "\n",
    "Será criado um algoritmo de mineração de dados utilizando-se um subconjunto de dados referentes à locações realizadas pelo aplicativo Airbnb na cidade de Nova York no ano de 2019. Os dados estão armazenados no arquivo Airbnb_subset.csv.\n",
    "\n",
    "O objetivo do algoritmo é identificar quantas locações foram realizadas no distrito do Brooklyn.\n",
    "\n",
    "O primeiro passo para a resolução desse problema consiste em criar um máquina de estados capaz de identificar, para cada registro presente na fonte de dados, qual é o distrito em que ela ocorreu. Para isso, é necessário investigar o conteúdo do arquivo de dados para conhecer um pouco mais sobre sua estrutura.\n",
    "\n",
    "Abrindo-se o arquivo em um editor de textos comum é possível notar trata-se de um arquivo em que cada linha representa uma locação. As linhas são divididas em campos separados pelo caractere \",\". A primeira linha do arquivo indica o nome do cada campo, conforme é mostrado a seguir.\n",
    "\n",
    "\"id,name,host_id,host_name,neighbourhood_group,neighbourhood,latitude,longitude,room_type,price,minimum_nights,number_of_reviews,last_review,reviews_per_month,calculated_host_listings_count,availability_365\"\n",
    "\n",
    "Nota-se que a informação sobre o nome do distrito onde a locação foi realizada está localizado no campo de número cinco, cujo nome é \"neigbourhood_group\". Essa informação pode ser confirmada analisando-se algumas linhas do arquivo, que seguem um padrão semelhanto ao mostrado mostrado abaixo.\n",
    "\n",
    "\"2539,Clean & quiet apt home by the park,2787,John,Brooklyn,Kensington,40.64749,-73.97237,Private room,149,1,9,2018-10-19,0.21,6,365\"\n",
    "\n",
    "Observer que no quinto campo encontra-se a informação de que a locação foi realizada no \"Brooklyn\".\n",
    "\n",
    "Conhecendo a forma como os dados estão armazenados dentro do arquivo, a próxima estapa consiste em identificar algum padrão que possa ser utilizado para rastrear a informação de que a locação foi realizada no distrito do \"Brooklyn\". Nota-se que essa informação está sempre localizada entre dois caracteres \",\", ou seja, \",Brooklyn,\". Analisando um pequeno conjunto de outros registros presentes no arquivo é possível confirmar essa afirmação.\n",
    "\n",
    "Tendo sido identificado esse padrão, a máquina de estados que será construída terá a função de ler cada uma das palavras encontradas entre dois caracteres \",\" e sempre que a mesma for igual a \"Brooklyn\" será adicionado o valor um a uma variável que será responsável por contar quantas vezes o distrito do \"Brooklyn\" doi encontrado. É importante frisar que a partir da análise feita no arquivo o padrão \",Brooklyn,\" aparece somente uma vez em cada registro referente a uma locação feita no distrito do \"Brooklyn\", validando a estratégia que será adotada.\n",
    "\n",
    "A seguir pode ser observada a máquina de estados que será utilizada.\n",
    "\n",
    "![title](ME_Airbnb.png)"
   ]
  },
  {
   "cell_type": "markdown",
   "metadata": {},
   "source": [
    "Ao iniciar a execução da máquina de estados é preciso carregar os dados do arquivo que servirá como fonte de dados inicializar algumas variáveis que serão utilizadas duranto o processamento. A variável \"dados\" será utilizada para conter os dados do arquivo; a variável \"distrito\" será utilizada para armazenar cada bloco de informação extraída do arquivo. É essa variável que será utilizada para avaliar se o bloco de informação armazenado na mesma corresponde ao distrito do \"Brooklyn\". A variável \"totLocacoes\" será utilizada para contar quantas vezes o distrito do \"Brooklyn\" foi encontrado e finalmente a variável \"estado\" será utilizada para que seja possível identificar em qual estado a máquina de estados se encontra em cada momento da execução da mesma."
   ]
  },
  {
   "cell_type": "code",
   "execution_count": 1,
   "metadata": {},
   "outputs": [],
   "source": [
    "arquivo = open(\"Airbnb_subset.csv\", encoding=\"utf-8\", errors=\"ignore\")\n",
    "dados = arquivo.read()\n",
    "arquivo.close()\n",
    "\n",
    "distrito = \"\"\n",
    "totLocacoes = 0\n",
    "estado = 1"
   ]
  },
  {
   "cell_type": "markdown",
   "metadata": {},
   "source": [
    "Como pode ser observo no diagrama de máquina de estados, a mesma possui dois estados que serão responsáveis por todo o processamento. Esses dois estados serão criados dentro de um laço \"for\" que terá a função de \"varrer\" cada caracter contido no arquivo de dados. A estrutura desse laço será a seguinte:\n",
    "\n",
    "```python\n",
    "for c in dados:\n",
    "    if estado == 1:\n",
    "        .\n",
    "        .\n",
    "        .\n",
    "    elif estado == 2:\n",
    "        .\n",
    "        .\n",
    "        .\n",
    "````\n"
   ]
  },
  {
   "cell_type": "markdown",
   "metadata": {},
   "source": [
    "Nota-se pelo diagrama qua máquina de estados permanecerá no estado um enquanto o valor da variável \"c\" for diferente de \",\", e mudará para o estado dois quando for igual. Esta construção é mostrada a seguir:\n",
    "\n",
    "```python\n",
    "for c in dados:\n",
    "    if estado == 1:\n",
    "        if c == \",\":\n",
    "            estado = 2\n",
    "        else:\n",
    "            estado = 1\n",
    "```\n",
    "\n",
    "O digrama indica que dentro do estado dois duas transições podem ocorrer. Enquanto o valor da variável \"c\" for diferente de \",\" cada caracter lido deverá ser concatenado na variável \"distrito\". Quando o valor de \"c\" torna-se igual a \",\" significa que toda a palavra contida entre as duas \",\" foi lida. Quando isso ocorre é preciso checar se a palavra armazenada em \"distrito\" corresponde ao distrito do \"Brooklyn\".  Se a resposta for afirmativa a variável \"totLocacoes\" é incrementada em uma unidade, a variável \"distrito\" é limpada para que seja possível iniciar uma nova busca e reinicia-se o estado dois. Se a resposta for negativa, apenas limpa-se a variável \"distrito\" para que uma nova busca possa ser feita e o estado dois é executado novamente.\n",
    "\n",
    "A ideia de permanecer no estado dois após cada avaliação da variável \"distrito\" pode parecer contra intuitiva, mas é preciso ter em mente que no momento em que essa variável estiver sendo avaliada o caracter atual armazenado na variável \"c\" é a \",\". Isso indica que chegou-se ao final de uma palavra, mas também indica que chegou-se ao início da próxima. Como no estado dois a máquina de estados lê as palavras entre uma \",\" inicial e uma \",\" final, o algoritmo permanece no estado dois para fazer a leitura de cada palavra subsequente.\n",
    "\n",
    "Abaixo é possível verificar como ficará a estrutua do estado dois.\n",
    "\n",
    "```python\n",
    "for c in dados:\n",
    "    if estado == 1:\n",
    "        .\n",
    "        .\n",
    "        .\n",
    "        \n",
    "    elif estado == 2:\n",
    "        if c != \",\":\n",
    "            distrito = distrito + c\n",
    "            estado = 2\n",
    "        elif c == \",\":\n",
    "            if distrito == \"Brooklyn\":\n",
    "                totLocacoes = totLocacoes + 1\n",
    "                distrito = \"\"\n",
    "                estado = 2\n",
    "            else:\n",
    "                distrito = \"\"\n",
    "                estado = 2\n",
    "```\n",
    "\n",
    "O término do processamento da máquina de estados ocorrerá quando todos os caracteres do arquivo tiver sido lido. Nesse momento o laço \"for\" é encerrado naturalmente e o total de locações realizadas no distrito do \"Brooklyn\" é exibido para o usuário.\n",
    "\n",
    "Finalmente é possível codificar todo o conteúdo do laço \"for\" referente à máquina de estados que foi projetada."
   ]
  },
  {
   "cell_type": "code",
   "execution_count": 2,
   "metadata": {},
   "outputs": [
    {
     "name": "stdout",
     "output_type": "stream",
     "text": [
      "Total de Locações Realizadas no Brooklyn: 49\n"
     ]
    }
   ],
   "source": [
    "for c in dados:\n",
    "    if estado == 1:\n",
    "        if c == \",\":\n",
    "            estado = 2\n",
    "        else:\n",
    "            estado = 1\n",
    "    elif estado == 2:\n",
    "        if c != \",\":\n",
    "            distrito = distrito + c\n",
    "            estado = 2\n",
    "        elif c == \",\":\n",
    "            if distrito == \"Brooklyn\":\n",
    "                totLocacoes = totLocacoes + 1\n",
    "                distrito = \"\"\n",
    "                estado = 2\n",
    "            else:\n",
    "                distrito = \"\"\n",
    "                estado = 2\n",
    "                \n",
    "print(\"Total de Locações Realizadas no Brooklyn: \" + str(totLocacoes))"
   ]
  },
  {
   "cell_type": "code",
   "execution_count": null,
   "metadata": {},
   "outputs": [],
   "source": []
  }
 ],
 "metadata": {
  "kernelspec": {
   "display_name": "Python 3",
   "language": "python",
   "name": "python3"
  },
  "language_info": {
   "codemirror_mode": {
    "name": "ipython",
    "version": 3
   },
   "file_extension": ".py",
   "mimetype": "text/x-python",
   "name": "python",
   "nbconvert_exporter": "python",
   "pygments_lexer": "ipython3",
   "version": "3.8.8"
  }
 },
 "nbformat": 4,
 "nbformat_minor": 4
}
