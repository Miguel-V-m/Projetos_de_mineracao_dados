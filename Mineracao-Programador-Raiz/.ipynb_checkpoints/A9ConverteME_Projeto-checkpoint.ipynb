{
 "cells": [
  {
   "cell_type": "markdown",
   "metadata": {},
   "source": [
    "![title](ME_ProjetoFinal.png)"
   ]
  },
  {
   "cell_type": "code",
   "execution_count": 3,
   "metadata": {},
   "outputs": [],
   "source": [
    "import requests"
   ]
  },
  {
   "cell_type": "code",
   "execution_count": 4,
   "metadata": {},
   "outputs": [],
   "source": [
    "# procuramos a pagina ewb onde queremos estrair o texto\n",
    "html = requests.get(\"https://coinmarketcap.com/\").text"
   ]
  },
  {
   "cell_type": "code",
   "execution_count": 6,
   "metadata": {},
   "outputs": [],
   "source": [
    "# verificamos a pagina HTML\n",
    "print(html)"
   ]
  },
  {
   "cell_type": "markdown",
   "metadata": {},
   "source": [
    "### criamos uma estrutura condicional"
   ]
  },
  {
   "cell_type": "code",
   "execution_count": null,
   "metadata": {},
   "outputs": [],
   "source": [
    "preco = \"\"\n",
    "estado = 1\n",
    "\n",
    "for c in html:\n",
    "    if   estado == 1: estado = (1 if c != \"B\" else 2)\n",
    "    elif estado == 2: estado = (1 if c != \"T\" else 3)\n",
    "    elif estado == 3: estado = (1 if c != \"C\" else 4)\n",
    "    elif estado == 4: estado = (1 if c != \"<\" else 5)\n",
    "    elif estado == 5: estado = (1 if c != \"/\" else 6)\n",
    "    elif estado == 6: estado = (1 if c != \"a\" else 7)\n",
    "    elif estado == 7: estado = (7 if c != \"$\" else 8)\n",
    "    elif estado == 8: estado = (8 if c != \"$\" else 9)\n",
    "    elif estado == 9:\n",
    "        if c != \"<\":\n",
    "            preco = preco + c\n",
    "            estado = 9\n",
    "        else:\n",
    "            print(\"$\" + preco)\n",
    "            break"
   ]
  }
 ],
 "metadata": {
  "kernelspec": {
   "display_name": "Python 3",
   "language": "python",
   "name": "python3"
  },
  "language_info": {
   "codemirror_mode": {
    "name": "ipython",
    "version": 3
   },
   "file_extension": ".py",
   "mimetype": "text/x-python",
   "name": "python",
   "nbconvert_exporter": "python",
   "pygments_lexer": "ipython3",
   "version": "3.8.8"
  }
 },
 "nbformat": 4,
 "nbformat_minor": 4
}
