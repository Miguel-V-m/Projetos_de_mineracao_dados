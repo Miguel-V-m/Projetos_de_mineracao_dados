{
 "cells": [
  {
   "cell_type": "markdown",
   "metadata": {},
   "source": [
    "# Armazenando Múltiplos Itens Minerados"
   ]
  },
  {
   "cell_type": "markdown",
   "metadata": {},
   "source": [
    "Algumas vezes é preciso realizar a mineração de vários itens presentes em uma fonte de dados armazenando-os em uma variável para posterior processamento. Essa situação pode ocorrer, por exemplo, quando é preciso extrair informações de um arquivo de log de acesso à servidores web, para extração de email de páginas de internet, extração de preços de produtos de sites de ecoomerce, entre muitas outras possibilidades.\n",
    "\n",
    "O Python possui uma estrutura de dados muito poderosa e simples de ser utilizada que permite o armazenamento de diversos itens dentro de uma mesma variável. Essa estrutura de dados é chamada de lista.\n",
    "\n",
    "A criação de uma variável deste tipo pode ser feita conforme é mostrado a seguir:"
   ]
  },
  {
   "cell_type": "code",
   "execution_count": 1,
   "metadata": {},
   "outputs": [],
   "source": [
    "dados = []"
   ]
  },
  {
   "cell_type": "markdown",
   "metadata": {},
   "source": [
    "Quanto criamos uma variável utilizando a sintaxe mostrada acima, estamos criando uma lista inicialmente vazia e passamos a ter a possibilidade de anexar itens à mesma utilizando o método \"append\". É possível verificar que lista está vazia da seguinte forma:"
   ]
  },
  {
   "cell_type": "code",
   "execution_count": 2,
   "metadata": {},
   "outputs": [
    {
     "name": "stdout",
     "output_type": "stream",
     "text": [
      "[]\n"
     ]
    }
   ],
   "source": [
    "print(dados)"
   ]
  },
  {
   "cell_type": "markdown",
   "metadata": {},
   "source": [
    "Utilizando o método \"append\" é possível incluir um item na lista. Veja abaixo um exemplo demonstrando a inclusão de um número dentro da lista \"dados\"."
   ]
  },
  {
   "cell_type": "code",
   "execution_count": 3,
   "metadata": {},
   "outputs": [],
   "source": [
    "dados.append(10)"
   ]
  },
  {
   "cell_type": "markdown",
   "metadata": {},
   "source": [
    "Para verificar se o número foi inserido corretamente na lista basta imprimir a lista \"dados\"."
   ]
  },
  {
   "cell_type": "code",
   "execution_count": 4,
   "metadata": {},
   "outputs": [
    {
     "name": "stdout",
     "output_type": "stream",
     "text": [
      "[10]\n"
     ]
    }
   ],
   "source": [
    "print(dados)"
   ]
  },
  {
   "cell_type": "markdown",
   "metadata": {},
   "source": [
    "Um dos recursos mais poderosos da lista em Python é a capacidade que ela possui de armazenar itens de diversos tipos ao mesmo tempo. Até o momento a lista \"dados\" possui somente um valor numérico armazenado na mesma, contudo, é possível incluir um outro item do tipo string de forma muito simples como é mostrado a seguir."
   ]
  },
  {
   "cell_type": "code",
   "execution_count": 5,
   "metadata": {},
   "outputs": [],
   "source": [
    "dados.append(\"Oi Mundo\")"
   ]
  },
  {
   "cell_type": "markdown",
   "metadata": {},
   "source": [
    "Imprimindo a lista \"dados\" é possível verificar que o item foi adicionado corretamente."
   ]
  },
  {
   "cell_type": "code",
   "execution_count": 7,
   "metadata": {},
   "outputs": [
    {
     "name": "stdout",
     "output_type": "stream",
     "text": [
      "[10, 'Oi Mundo']\n"
     ]
    }
   ],
   "source": [
    "print(dados)"
   ]
  },
  {
   "cell_type": "markdown",
   "metadata": {},
   "source": [
    "Agora a lista possui um dado do tipo numérico e outro do tipo string.\n",
    "\n",
    "O acesso a itens específicos armazenados nas lista é uma tarefa igualmente simples e pode ser feito utilizando índices, destacando que a indexação inicia-se em zero. Sendo assim, caso se deseje acessar o primeiro elemento da lista basta seguir o procedimento abaixo."
   ]
  },
  {
   "cell_type": "code",
   "execution_count": 9,
   "metadata": {},
   "outputs": [
    {
     "name": "stdout",
     "output_type": "stream",
     "text": [
      "10\n"
     ]
    }
   ],
   "source": [
    "print(dados[0])"
   ]
  },
  {
   "cell_type": "markdown",
   "metadata": {},
   "source": [
    "E se o objetivo for acessar o segundo elemento utiliza-se o índice um."
   ]
  },
  {
   "cell_type": "code",
   "execution_count": 10,
   "metadata": {},
   "outputs": [
    {
     "name": "stdout",
     "output_type": "stream",
     "text": [
      "Oi Mundo\n"
     ]
    }
   ],
   "source": [
    "print(dados[1])"
   ]
  }
 ],
 "metadata": {
  "kernelspec": {
   "display_name": "Python 3",
   "language": "python",
   "name": "python3"
  },
  "language_info": {
   "codemirror_mode": {
    "name": "ipython",
    "version": 3
   },
   "file_extension": ".py",
   "mimetype": "text/x-python",
   "name": "python",
   "nbconvert_exporter": "python",
   "pygments_lexer": "ipython3",
   "version": "3.7.3"
  }
 },
 "nbformat": 4,
 "nbformat_minor": 4
}
