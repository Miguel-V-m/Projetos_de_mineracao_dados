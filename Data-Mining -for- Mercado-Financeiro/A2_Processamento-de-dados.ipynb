{
 "cells": [
  {
   "cell_type": "markdown",
   "id": "d2d1a5f3",
   "metadata": {},
   "source": [
    "## data mining para finanças - bolsa de valores"
   ]
  },
  {
   "cell_type": "code",
   "execution_count": 75,
   "id": "d3e221e1",
   "metadata": {},
   "outputs": [],
   "source": [
    "import pandas as pd\n",
    "import numpy as np\n",
    "import matplotlib.pyplot as plt"
   ]
  },
  {
   "cell_type": "code",
   "execution_count": 2,
   "id": "4c447b38",
   "metadata": {},
   "outputs": [],
   "source": [
    "# Carregar dados do indicador Radar_Ibovespa\n",
    "close = pd.read_csv('D_CLOSE.csv')"
   ]
  },
  {
   "cell_type": "code",
   "execution_count": 3,
   "id": "2c0b8867",
   "metadata": {},
   "outputs": [
    {
     "data": {
      "text/html": [
       "<div>\n",
       "<style scoped>\n",
       "    .dataframe tbody tr th:only-of-type {\n",
       "        vertical-align: middle;\n",
       "    }\n",
       "\n",
       "    .dataframe tbody tr th {\n",
       "        vertical-align: top;\n",
       "    }\n",
       "\n",
       "    .dataframe thead th {\n",
       "        text-align: right;\n",
       "    }\n",
       "</style>\n",
       "<table border=\"1\" class=\"dataframe\">\n",
       "  <thead>\n",
       "    <tr style=\"text-align: right;\">\n",
       "      <th></th>\n",
       "      <th>data</th>\n",
       "      <th>lastprice</th>\n",
       "      <th>bova11</th>\n",
       "      <th>closevale</th>\n",
       "      <th>closeitub</th>\n",
       "      <th>closepetr</th>\n",
       "      <th>closeb3sa</th>\n",
       "      <th>closebbdc</th>\n",
       "      <th>closepetr.1</th>\n",
       "      <th>closeabev</th>\n",
       "      <th>...</th>\n",
       "      <th>closebrml</th>\n",
       "      <th>closecrfb</th>\n",
       "      <th>closetaee</th>\n",
       "      <th>closebrkm</th>\n",
       "      <th>closeembr</th>\n",
       "      <th>closemult</th>\n",
       "      <th>closecpfe</th>\n",
       "      <th>closemrve</th>\n",
       "      <th>closemrfg</th>\n",
       "      <th>closeenbr</th>\n",
       "    </tr>\n",
       "  </thead>\n",
       "  <tbody>\n",
       "    <tr>\n",
       "      <th>0</th>\n",
       "      <td>2020-01-02 09:00:00</td>\n",
       "      <td>117000.0</td>\n",
       "      <td>0.0</td>\n",
       "      <td>0.0</td>\n",
       "      <td>0.0</td>\n",
       "      <td>0.0</td>\n",
       "      <td>0.0</td>\n",
       "      <td>0.0</td>\n",
       "      <td>0.0</td>\n",
       "      <td>0.0</td>\n",
       "      <td>...</td>\n",
       "      <td>0.0</td>\n",
       "      <td>0.0</td>\n",
       "      <td>0.0</td>\n",
       "      <td>0.0</td>\n",
       "      <td>0.0</td>\n",
       "      <td>0.0</td>\n",
       "      <td>0.0</td>\n",
       "      <td>0.0</td>\n",
       "      <td>0.0</td>\n",
       "      <td>0.0</td>\n",
       "    </tr>\n",
       "    <tr>\n",
       "      <th>1</th>\n",
       "      <td>2020-01-02 09:01:00</td>\n",
       "      <td>117020.0</td>\n",
       "      <td>0.0</td>\n",
       "      <td>0.0</td>\n",
       "      <td>0.0</td>\n",
       "      <td>0.0</td>\n",
       "      <td>0.0</td>\n",
       "      <td>0.0</td>\n",
       "      <td>0.0</td>\n",
       "      <td>0.0</td>\n",
       "      <td>...</td>\n",
       "      <td>0.0</td>\n",
       "      <td>0.0</td>\n",
       "      <td>0.0</td>\n",
       "      <td>0.0</td>\n",
       "      <td>0.0</td>\n",
       "      <td>0.0</td>\n",
       "      <td>0.0</td>\n",
       "      <td>0.0</td>\n",
       "      <td>0.0</td>\n",
       "      <td>0.0</td>\n",
       "    </tr>\n",
       "    <tr>\n",
       "      <th>2</th>\n",
       "      <td>2020-01-02 09:02:00</td>\n",
       "      <td>117025.0</td>\n",
       "      <td>0.0</td>\n",
       "      <td>0.0</td>\n",
       "      <td>0.0</td>\n",
       "      <td>0.0</td>\n",
       "      <td>0.0</td>\n",
       "      <td>0.0</td>\n",
       "      <td>0.0</td>\n",
       "      <td>0.0</td>\n",
       "      <td>...</td>\n",
       "      <td>0.0</td>\n",
       "      <td>0.0</td>\n",
       "      <td>0.0</td>\n",
       "      <td>0.0</td>\n",
       "      <td>0.0</td>\n",
       "      <td>0.0</td>\n",
       "      <td>0.0</td>\n",
       "      <td>0.0</td>\n",
       "      <td>0.0</td>\n",
       "      <td>0.0</td>\n",
       "    </tr>\n",
       "  </tbody>\n",
       "</table>\n",
       "<p>3 rows × 75 columns</p>\n",
       "</div>"
      ],
      "text/plain": [
       "                  data  lastprice  bova11  closevale  closeitub  closepetr  \\\n",
       "0  2020-01-02 09:00:00   117000.0     0.0        0.0        0.0        0.0   \n",
       "1  2020-01-02 09:01:00   117020.0     0.0        0.0        0.0        0.0   \n",
       "2  2020-01-02 09:02:00   117025.0     0.0        0.0        0.0        0.0   \n",
       "\n",
       "   closeb3sa  closebbdc  closepetr.1  closeabev  ...  closebrml  closecrfb  \\\n",
       "0        0.0        0.0          0.0        0.0  ...        0.0        0.0   \n",
       "1        0.0        0.0          0.0        0.0  ...        0.0        0.0   \n",
       "2        0.0        0.0          0.0        0.0  ...        0.0        0.0   \n",
       "\n",
       "   closetaee  closebrkm  closeembr  closemult  closecpfe  closemrve  \\\n",
       "0        0.0        0.0        0.0        0.0        0.0        0.0   \n",
       "1        0.0        0.0        0.0        0.0        0.0        0.0   \n",
       "2        0.0        0.0        0.0        0.0        0.0        0.0   \n",
       "\n",
       "   closemrfg  closeenbr  \n",
       "0        0.0        0.0  \n",
       "1        0.0        0.0  \n",
       "2        0.0        0.0  \n",
       "\n",
       "[3 rows x 75 columns]"
      ]
     },
     "execution_count": 3,
     "metadata": {},
     "output_type": "execute_result"
    }
   ],
   "source": [
    "close.head(3)"
   ]
  },
  {
   "cell_type": "code",
   "execution_count": 5,
   "id": "8b19d6b9",
   "metadata": {},
   "outputs": [
    {
     "data": {
      "text/plain": [
       "(144248, 75)"
      ]
     },
     "execution_count": 5,
     "metadata": {},
     "output_type": "execute_result"
    }
   ],
   "source": [
    "close.shape"
   ]
  },
  {
   "cell_type": "code",
   "execution_count": 13,
   "id": "7c651717",
   "metadata": {},
   "outputs": [
    {
     "data": {
      "text/plain": [
       "data          object\n",
       "lastprice    float64\n",
       "bova11       float64\n",
       "closevale    float64\n",
       "closeitub    float64\n",
       "              ...   \n",
       "closemult    float64\n",
       "closecpfe    float64\n",
       "closemrve    float64\n",
       "closemrfg    float64\n",
       "closeenbr    float64\n",
       "Length: 75, dtype: object"
      ]
     },
     "execution_count": 13,
     "metadata": {},
     "output_type": "execute_result"
    }
   ],
   "source": [
    "close.dtypes"
   ]
  },
  {
   "cell_type": "code",
   "execution_count": 14,
   "id": "466ba986",
   "metadata": {},
   "outputs": [
    {
     "data": {
      "text/plain": [
       "['2020', '01', '02']"
      ]
     },
     "execution_count": 14,
     "metadata": {},
     "output_type": "execute_result"
    }
   ],
   "source": [
    "close['data'][3].split(' ')[0].split('-')"
   ]
  },
  {
   "cell_type": "code",
   "execution_count": 15,
   "id": "300f3fc9",
   "metadata": {},
   "outputs": [],
   "source": [
    "ano = close['data'][3].split(' ')[0].split('-')[0]\n",
    "mes = close['data'][3].split(' ')[0].split('-')[1]\n",
    "dia = close['data'][3].split(' ')[0].split('-')[2]"
   ]
  },
  {
   "cell_type": "code",
   "execution_count": 16,
   "id": "02db5a26",
   "metadata": {},
   "outputs": [
    {
     "data": {
      "text/plain": [
       "'2020'"
      ]
     },
     "execution_count": 16,
     "metadata": {},
     "output_type": "execute_result"
    }
   ],
   "source": [
    "ano"
   ]
  },
  {
   "cell_type": "code",
   "execution_count": 17,
   "id": "c4ce70b0",
   "metadata": {},
   "outputs": [
    {
     "data": {
      "text/plain": [
       "'01'"
      ]
     },
     "execution_count": 17,
     "metadata": {},
     "output_type": "execute_result"
    }
   ],
   "source": [
    "mes"
   ]
  },
  {
   "cell_type": "code",
   "execution_count": 18,
   "id": "c369bf2b",
   "metadata": {},
   "outputs": [
    {
     "data": {
      "text/plain": [
       "'2020'"
      ]
     },
     "execution_count": 18,
     "metadata": {},
     "output_type": "execute_result"
    }
   ],
   "source": [
    "ano"
   ]
  },
  {
   "cell_type": "code",
   "execution_count": 20,
   "id": "2bf1204d",
   "metadata": {},
   "outputs": [
    {
     "data": {
      "text/plain": [
       "'09'"
      ]
     },
     "execution_count": 20,
     "metadata": {},
     "output_type": "execute_result"
    }
   ],
   "source": [
    "close['data'][3].split(' ')[1][0:2]"
   ]
  },
  {
   "cell_type": "code",
   "execution_count": 22,
   "id": "e121259e",
   "metadata": {},
   "outputs": [
    {
     "data": {
      "text/plain": [
       "'09'"
      ]
     },
     "execution_count": 22,
     "metadata": {},
     "output_type": "execute_result"
    }
   ],
   "source": [
    "close['data'][3].split(' ')[1].split(':')[0]"
   ]
  },
  {
   "cell_type": "code",
   "execution_count": 28,
   "id": "66c4c5bf",
   "metadata": {},
   "outputs": [],
   "source": [
    "def separa(x):\n",
    "    return x.split(' ')"
   ]
  },
  {
   "cell_type": "code",
   "execution_count": 33,
   "id": "ce0cf7c0",
   "metadata": {},
   "outputs": [],
   "source": [
    "f = lambda x: x.split(' ')"
   ]
  },
  {
   "cell_type": "code",
   "execution_count": 34,
   "id": "86f226b3",
   "metadata": {},
   "outputs": [
    {
     "data": {
      "text/plain": [
       "['2020-01-02', '09:00:00']"
      ]
     },
     "execution_count": 34,
     "metadata": {},
     "output_type": "execute_result"
    }
   ],
   "source": [
    "f(close['data'][0])"
   ]
  },
  {
   "cell_type": "code",
   "execution_count": 29,
   "id": "f3398b6b",
   "metadata": {},
   "outputs": [],
   "source": [
    "Teste = close['data'].apply(separa)"
   ]
  },
  {
   "cell_type": "code",
   "execution_count": 30,
   "id": "0e59fa18",
   "metadata": {},
   "outputs": [
    {
     "data": {
      "text/plain": [
       "0         [2020-01-02, 09:00:00]\n",
       "1         [2020-01-02, 09:01:00]\n",
       "2         [2020-01-02, 09:02:00]\n",
       "3         [2020-01-02, 09:03:00]\n",
       "4         [2020-01-02, 09:04:00]\n",
       "                   ...          \n",
       "144243    [2021-01-29, 18:20:00]\n",
       "144244    [2021-01-29, 18:21:00]\n",
       "144245    [2021-01-29, 18:22:00]\n",
       "144246    [2021-01-29, 18:23:00]\n",
       "144247    [2021-01-29, 18:24:00]\n",
       "Name: data, Length: 144248, dtype: object"
      ]
     },
     "execution_count": 30,
     "metadata": {},
     "output_type": "execute_result"
    }
   ],
   "source": [
    "Teste"
   ]
  },
  {
   "cell_type": "code",
   "execution_count": 37,
   "id": "236f44b3",
   "metadata": {},
   "outputs": [],
   "source": [
    "Ano = close['data'].apply(lambda x: int(x.split(' ')[0].split('-')[0]))"
   ]
  },
  {
   "cell_type": "code",
   "execution_count": 39,
   "id": "c5d6d079",
   "metadata": {},
   "outputs": [
    {
     "data": {
      "text/plain": [
       "0         2020\n",
       "1         2020\n",
       "2         2020\n",
       "3         2020\n",
       "4         2020\n",
       "          ... \n",
       "144243    2021\n",
       "144244    2021\n",
       "144245    2021\n",
       "144246    2021\n",
       "144247    2021\n",
       "Name: data, Length: 144248, dtype: int64"
      ]
     },
     "execution_count": 39,
     "metadata": {},
     "output_type": "execute_result"
    }
   ],
   "source": [
    "Ano"
   ]
  },
  {
   "cell_type": "code",
   "execution_count": 40,
   "id": "bb78f0a2",
   "metadata": {},
   "outputs": [],
   "source": [
    "Mes = close['data'].apply(lambda x: int(x.split(' ')[0].split('-')[1]) )\n",
    "Dia = close['data'].apply(lambda x: int(x.split(' ')[0].split('-')[2]) )\n",
    "Hora = close['data'].apply(lambda x: int(x.split(' ')[1].split(':')[0]) ) "
   ]
  },
  {
   "cell_type": "code",
   "execution_count": 41,
   "id": "c5c42162",
   "metadata": {},
   "outputs": [],
   "source": [
    "Ano = Ano.rename(\"Ano\", axis='columns')\n",
    "Mes = Mes.rename(\"Mes\", axis='columns')\n",
    "Dia = Dia.rename(\"Dia\", axis='columns')\n",
    "Hora = Hora.rename(\"Hora\", axis='columns')\n",
    "\n",
    "close = pd.concat([close, Ano, Mes, Dia, Hora], axis=1)"
   ]
  },
  {
   "cell_type": "code",
   "execution_count": 43,
   "id": "d2c1786e",
   "metadata": {},
   "outputs": [
    {
     "data": {
      "text/html": [
       "<div>\n",
       "<style scoped>\n",
       "    .dataframe tbody tr th:only-of-type {\n",
       "        vertical-align: middle;\n",
       "    }\n",
       "\n",
       "    .dataframe tbody tr th {\n",
       "        vertical-align: top;\n",
       "    }\n",
       "\n",
       "    .dataframe thead th {\n",
       "        text-align: right;\n",
       "    }\n",
       "</style>\n",
       "<table border=\"1\" class=\"dataframe\">\n",
       "  <thead>\n",
       "    <tr style=\"text-align: right;\">\n",
       "      <th></th>\n",
       "      <th>data</th>\n",
       "      <th>lastprice</th>\n",
       "      <th>bova11</th>\n",
       "      <th>closevale</th>\n",
       "      <th>closeitub</th>\n",
       "      <th>closepetr</th>\n",
       "      <th>closeb3sa</th>\n",
       "      <th>closebbdc</th>\n",
       "      <th>closepetr.1</th>\n",
       "      <th>closeabev</th>\n",
       "      <th>...</th>\n",
       "      <th>closeembr</th>\n",
       "      <th>closemult</th>\n",
       "      <th>closecpfe</th>\n",
       "      <th>closemrve</th>\n",
       "      <th>closemrfg</th>\n",
       "      <th>closeenbr</th>\n",
       "      <th>Ano</th>\n",
       "      <th>Mes</th>\n",
       "      <th>Dia</th>\n",
       "      <th>Hora</th>\n",
       "    </tr>\n",
       "  </thead>\n",
       "  <tbody>\n",
       "    <tr>\n",
       "      <th>0</th>\n",
       "      <td>2020-01-02 09:00:00</td>\n",
       "      <td>117000.0</td>\n",
       "      <td>0.0</td>\n",
       "      <td>0.0</td>\n",
       "      <td>0.0</td>\n",
       "      <td>0.0</td>\n",
       "      <td>0.0</td>\n",
       "      <td>0.0</td>\n",
       "      <td>0.0</td>\n",
       "      <td>0.0</td>\n",
       "      <td>...</td>\n",
       "      <td>0.0</td>\n",
       "      <td>0.0</td>\n",
       "      <td>0.0</td>\n",
       "      <td>0.0</td>\n",
       "      <td>0.0</td>\n",
       "      <td>0.0</td>\n",
       "      <td>2020</td>\n",
       "      <td>1</td>\n",
       "      <td>2</td>\n",
       "      <td>9</td>\n",
       "    </tr>\n",
       "    <tr>\n",
       "      <th>1</th>\n",
       "      <td>2020-01-02 09:01:00</td>\n",
       "      <td>117020.0</td>\n",
       "      <td>0.0</td>\n",
       "      <td>0.0</td>\n",
       "      <td>0.0</td>\n",
       "      <td>0.0</td>\n",
       "      <td>0.0</td>\n",
       "      <td>0.0</td>\n",
       "      <td>0.0</td>\n",
       "      <td>0.0</td>\n",
       "      <td>...</td>\n",
       "      <td>0.0</td>\n",
       "      <td>0.0</td>\n",
       "      <td>0.0</td>\n",
       "      <td>0.0</td>\n",
       "      <td>0.0</td>\n",
       "      <td>0.0</td>\n",
       "      <td>2020</td>\n",
       "      <td>1</td>\n",
       "      <td>2</td>\n",
       "      <td>9</td>\n",
       "    </tr>\n",
       "    <tr>\n",
       "      <th>2</th>\n",
       "      <td>2020-01-02 09:02:00</td>\n",
       "      <td>117025.0</td>\n",
       "      <td>0.0</td>\n",
       "      <td>0.0</td>\n",
       "      <td>0.0</td>\n",
       "      <td>0.0</td>\n",
       "      <td>0.0</td>\n",
       "      <td>0.0</td>\n",
       "      <td>0.0</td>\n",
       "      <td>0.0</td>\n",
       "      <td>...</td>\n",
       "      <td>0.0</td>\n",
       "      <td>0.0</td>\n",
       "      <td>0.0</td>\n",
       "      <td>0.0</td>\n",
       "      <td>0.0</td>\n",
       "      <td>0.0</td>\n",
       "      <td>2020</td>\n",
       "      <td>1</td>\n",
       "      <td>2</td>\n",
       "      <td>9</td>\n",
       "    </tr>\n",
       "  </tbody>\n",
       "</table>\n",
       "<p>3 rows × 79 columns</p>\n",
       "</div>"
      ],
      "text/plain": [
       "                  data  lastprice  bova11  closevale  closeitub  closepetr  \\\n",
       "0  2020-01-02 09:00:00   117000.0     0.0        0.0        0.0        0.0   \n",
       "1  2020-01-02 09:01:00   117020.0     0.0        0.0        0.0        0.0   \n",
       "2  2020-01-02 09:02:00   117025.0     0.0        0.0        0.0        0.0   \n",
       "\n",
       "   closeb3sa  closebbdc  closepetr.1  closeabev  ...  closeembr  closemult  \\\n",
       "0        0.0        0.0          0.0        0.0  ...        0.0        0.0   \n",
       "1        0.0        0.0          0.0        0.0  ...        0.0        0.0   \n",
       "2        0.0        0.0          0.0        0.0  ...        0.0        0.0   \n",
       "\n",
       "   closecpfe  closemrve  closemrfg  closeenbr   Ano  Mes  Dia  Hora  \n",
       "0        0.0        0.0        0.0        0.0  2020    1    2     9  \n",
       "1        0.0        0.0        0.0        0.0  2020    1    2     9  \n",
       "2        0.0        0.0        0.0        0.0  2020    1    2     9  \n",
       "\n",
       "[3 rows x 79 columns]"
      ]
     },
     "execution_count": 43,
     "metadata": {},
     "output_type": "execute_result"
    }
   ],
   "source": [
    "close.head(3)"
   ]
  },
  {
   "cell_type": "code",
   "execution_count": 44,
   "id": "946912e2",
   "metadata": {},
   "outputs": [],
   "source": [
    "# Carregar dados de probabilidades\n",
    "prob = pd.read_csv('D_PROB.csv')"
   ]
  },
  {
   "cell_type": "code",
   "execution_count": 45,
   "id": "bf94791d",
   "metadata": {},
   "outputs": [
    {
     "data": {
      "text/html": [
       "<div>\n",
       "<style scoped>\n",
       "    .dataframe tbody tr th:only-of-type {\n",
       "        vertical-align: middle;\n",
       "    }\n",
       "\n",
       "    .dataframe tbody tr th {\n",
       "        vertical-align: top;\n",
       "    }\n",
       "\n",
       "    .dataframe thead th {\n",
       "        text-align: right;\n",
       "    }\n",
       "</style>\n",
       "<table border=\"1\" class=\"dataframe\">\n",
       "  <thead>\n",
       "    <tr style=\"text-align: right;\">\n",
       "      <th></th>\n",
       "      <th>data</th>\n",
       "      <th>lastprice</th>\n",
       "      <th>probsubir</th>\n",
       "      <th>probsubircorr</th>\n",
       "      <th>probsubirpondpesos</th>\n",
       "      <th>probsubirpondcorrpessos</th>\n",
       "      <th>indc</th>\n",
       "      <th>indv</th>\n",
       "      <th>powerc</th>\n",
       "      <th>powerv</th>\n",
       "      <th>probcurtoc</th>\n",
       "      <th>probmedioc</th>\n",
       "      <th>problongoc</th>\n",
       "      <th>probcurtosobe</th>\n",
       "      <th>probmediosobe</th>\n",
       "      <th>problongosobe</th>\n",
       "    </tr>\n",
       "  </thead>\n",
       "  <tbody>\n",
       "    <tr>\n",
       "      <th>0</th>\n",
       "      <td>2020-01-02 09:00:00</td>\n",
       "      <td>117000.0</td>\n",
       "      <td>0.413</td>\n",
       "      <td>0.411</td>\n",
       "      <td>0.311</td>\n",
       "      <td>0.325</td>\n",
       "      <td>5.0</td>\n",
       "      <td>6.0</td>\n",
       "      <td>11.642</td>\n",
       "      <td>-58.525</td>\n",
       "      <td>0.25</td>\n",
       "      <td>0.155</td>\n",
       "      <td>0.448</td>\n",
       "      <td>0.347</td>\n",
       "      <td>0.222</td>\n",
       "      <td>0.479</td>\n",
       "    </tr>\n",
       "    <tr>\n",
       "      <th>1</th>\n",
       "      <td>2020-01-02 09:01:00</td>\n",
       "      <td>117020.0</td>\n",
       "      <td>0.413</td>\n",
       "      <td>0.375</td>\n",
       "      <td>0.311</td>\n",
       "      <td>0.333</td>\n",
       "      <td>5.0</td>\n",
       "      <td>6.0</td>\n",
       "      <td>11.642</td>\n",
       "      <td>-58.525</td>\n",
       "      <td>0.25</td>\n",
       "      <td>0.155</td>\n",
       "      <td>0.448</td>\n",
       "      <td>0.347</td>\n",
       "      <td>0.222</td>\n",
       "      <td>0.479</td>\n",
       "    </tr>\n",
       "    <tr>\n",
       "      <th>2</th>\n",
       "      <td>2020-01-02 09:02:00</td>\n",
       "      <td>117025.0</td>\n",
       "      <td>0.413</td>\n",
       "      <td>0.250</td>\n",
       "      <td>0.311</td>\n",
       "      <td>0.000</td>\n",
       "      <td>5.0</td>\n",
       "      <td>6.0</td>\n",
       "      <td>11.642</td>\n",
       "      <td>-58.525</td>\n",
       "      <td>0.25</td>\n",
       "      <td>0.155</td>\n",
       "      <td>0.448</td>\n",
       "      <td>0.347</td>\n",
       "      <td>0.222</td>\n",
       "      <td>0.479</td>\n",
       "    </tr>\n",
       "  </tbody>\n",
       "</table>\n",
       "</div>"
      ],
      "text/plain": [
       "                  data  lastprice  probsubir  probsubircorr  \\\n",
       "0  2020-01-02 09:00:00   117000.0      0.413          0.411   \n",
       "1  2020-01-02 09:01:00   117020.0      0.413          0.375   \n",
       "2  2020-01-02 09:02:00   117025.0      0.413          0.250   \n",
       "\n",
       "   probsubirpondpesos  probsubirpondcorrpessos  indc  indv  powerc  powerv  \\\n",
       "0               0.311                    0.325   5.0   6.0  11.642 -58.525   \n",
       "1               0.311                    0.333   5.0   6.0  11.642 -58.525   \n",
       "2               0.311                    0.000   5.0   6.0  11.642 -58.525   \n",
       "\n",
       "   probcurtoc  probmedioc  problongoc  probcurtosobe  probmediosobe  \\\n",
       "0        0.25       0.155       0.448          0.347          0.222   \n",
       "1        0.25       0.155       0.448          0.347          0.222   \n",
       "2        0.25       0.155       0.448          0.347          0.222   \n",
       "\n",
       "   problongosobe  \n",
       "0          0.479  \n",
       "1          0.479  \n",
       "2          0.479  "
      ]
     },
     "execution_count": 45,
     "metadata": {},
     "output_type": "execute_result"
    }
   ],
   "source": [
    "prob.head(3)"
   ]
  },
  {
   "cell_type": "code",
   "execution_count": 48,
   "id": "cc4ed186",
   "metadata": {},
   "outputs": [],
   "source": [
    "# Criar uma função para separa data e hora em colunas \n",
    "# neste caso o procedimento vai ser de forma geral e  rapida\n",
    "def dataHoraEmColumnas(df, columaDataName = 'data'):\n",
    "    Ano = df[columaDataName].apply(lambda x: int(x.split(' ')[0].split('-')[0]) )\n",
    "    Mes = df[columaDataName].apply(lambda x: int(x.split(' ')[0].split('-')[1]) )\n",
    "    Dia = df[columaDataName].apply(lambda x: int(x.split(' ')[0].split('-')[2]) )\n",
    "    Hora = df[columaDataName].apply(lambda x: int(x.split(' ')[1].split(':')[0]) ) \n",
    "\n",
    "    Ano = Ano.rename(\"Ano\", axis='columns')\n",
    "    Mes = Mes.rename(\"Mes\", axis='columns')\n",
    "    Dia = Dia.rename(\"Dia\", axis='columns')\n",
    "    Hora = Hora.rename(\"Hora\", axis='columns')\n",
    "\n",
    "    df = pd.concat([df, Ano, Mes, Dia, Hora], axis=1)\n",
    "    return df"
   ]
  },
  {
   "cell_type": "code",
   "execution_count": 49,
   "id": "07df4cc7",
   "metadata": {},
   "outputs": [],
   "source": [
    "# aqui faz o procesamento da função e atualiza o data frame\n",
    "prob = dataHoraEmColumnas(prob)"
   ]
  },
  {
   "cell_type": "code",
   "execution_count": 50,
   "id": "6f47764b",
   "metadata": {
    "scrolled": true
   },
   "outputs": [
    {
     "data": {
      "text/html": [
       "<div>\n",
       "<style scoped>\n",
       "    .dataframe tbody tr th:only-of-type {\n",
       "        vertical-align: middle;\n",
       "    }\n",
       "\n",
       "    .dataframe tbody tr th {\n",
       "        vertical-align: top;\n",
       "    }\n",
       "\n",
       "    .dataframe thead th {\n",
       "        text-align: right;\n",
       "    }\n",
       "</style>\n",
       "<table border=\"1\" class=\"dataframe\">\n",
       "  <thead>\n",
       "    <tr style=\"text-align: right;\">\n",
       "      <th></th>\n",
       "      <th>data</th>\n",
       "      <th>lastprice</th>\n",
       "      <th>probsubir</th>\n",
       "      <th>probsubircorr</th>\n",
       "      <th>probsubirpondpesos</th>\n",
       "      <th>probsubirpondcorrpessos</th>\n",
       "      <th>indc</th>\n",
       "      <th>indv</th>\n",
       "      <th>powerc</th>\n",
       "      <th>powerv</th>\n",
       "      <th>probcurtoc</th>\n",
       "      <th>probmedioc</th>\n",
       "      <th>problongoc</th>\n",
       "      <th>probcurtosobe</th>\n",
       "      <th>probmediosobe</th>\n",
       "      <th>problongosobe</th>\n",
       "      <th>Ano</th>\n",
       "      <th>Mes</th>\n",
       "      <th>Dia</th>\n",
       "      <th>Hora</th>\n",
       "    </tr>\n",
       "  </thead>\n",
       "  <tbody>\n",
       "    <tr>\n",
       "      <th>0</th>\n",
       "      <td>2020-01-02 09:00:00</td>\n",
       "      <td>117000.0</td>\n",
       "      <td>0.413</td>\n",
       "      <td>0.411</td>\n",
       "      <td>0.311</td>\n",
       "      <td>0.325</td>\n",
       "      <td>5.0</td>\n",
       "      <td>6.0</td>\n",
       "      <td>11.642</td>\n",
       "      <td>-58.525</td>\n",
       "      <td>0.25</td>\n",
       "      <td>0.155</td>\n",
       "      <td>0.448</td>\n",
       "      <td>0.347</td>\n",
       "      <td>0.222</td>\n",
       "      <td>0.479</td>\n",
       "      <td>2020</td>\n",
       "      <td>1</td>\n",
       "      <td>2</td>\n",
       "      <td>9</td>\n",
       "    </tr>\n",
       "    <tr>\n",
       "      <th>1</th>\n",
       "      <td>2020-01-02 09:01:00</td>\n",
       "      <td>117020.0</td>\n",
       "      <td>0.413</td>\n",
       "      <td>0.375</td>\n",
       "      <td>0.311</td>\n",
       "      <td>0.333</td>\n",
       "      <td>5.0</td>\n",
       "      <td>6.0</td>\n",
       "      <td>11.642</td>\n",
       "      <td>-58.525</td>\n",
       "      <td>0.25</td>\n",
       "      <td>0.155</td>\n",
       "      <td>0.448</td>\n",
       "      <td>0.347</td>\n",
       "      <td>0.222</td>\n",
       "      <td>0.479</td>\n",
       "      <td>2020</td>\n",
       "      <td>1</td>\n",
       "      <td>2</td>\n",
       "      <td>9</td>\n",
       "    </tr>\n",
       "    <tr>\n",
       "      <th>2</th>\n",
       "      <td>2020-01-02 09:02:00</td>\n",
       "      <td>117025.0</td>\n",
       "      <td>0.413</td>\n",
       "      <td>0.250</td>\n",
       "      <td>0.311</td>\n",
       "      <td>0.000</td>\n",
       "      <td>5.0</td>\n",
       "      <td>6.0</td>\n",
       "      <td>11.642</td>\n",
       "      <td>-58.525</td>\n",
       "      <td>0.25</td>\n",
       "      <td>0.155</td>\n",
       "      <td>0.448</td>\n",
       "      <td>0.347</td>\n",
       "      <td>0.222</td>\n",
       "      <td>0.479</td>\n",
       "      <td>2020</td>\n",
       "      <td>1</td>\n",
       "      <td>2</td>\n",
       "      <td>9</td>\n",
       "    </tr>\n",
       "  </tbody>\n",
       "</table>\n",
       "</div>"
      ],
      "text/plain": [
       "                  data  lastprice  probsubir  probsubircorr  \\\n",
       "0  2020-01-02 09:00:00   117000.0      0.413          0.411   \n",
       "1  2020-01-02 09:01:00   117020.0      0.413          0.375   \n",
       "2  2020-01-02 09:02:00   117025.0      0.413          0.250   \n",
       "\n",
       "   probsubirpondpesos  probsubirpondcorrpessos  indc  indv  powerc  powerv  \\\n",
       "0               0.311                    0.325   5.0   6.0  11.642 -58.525   \n",
       "1               0.311                    0.333   5.0   6.0  11.642 -58.525   \n",
       "2               0.311                    0.000   5.0   6.0  11.642 -58.525   \n",
       "\n",
       "   probcurtoc  probmedioc  problongoc  probcurtosobe  probmediosobe  \\\n",
       "0        0.25       0.155       0.448          0.347          0.222   \n",
       "1        0.25       0.155       0.448          0.347          0.222   \n",
       "2        0.25       0.155       0.448          0.347          0.222   \n",
       "\n",
       "   problongosobe   Ano  Mes  Dia  Hora  \n",
       "0          0.479  2020    1    2     9  \n",
       "1          0.479  2020    1    2     9  \n",
       "2          0.479  2020    1    2     9  "
      ]
     },
     "execution_count": 50,
     "metadata": {},
     "output_type": "execute_result"
    }
   ],
   "source": [
    "prob.head(3)"
   ]
  },
  {
   "cell_type": "markdown",
   "id": "8f90d61e",
   "metadata": {},
   "source": [
    "#### vamos conbinar close e prob(probabilidades) = 'cp'"
   ]
  },
  {
   "cell_type": "code",
   "execution_count": 51,
   "id": "9439ab3b",
   "metadata": {},
   "outputs": [],
   "source": [
    "# vamos conbinar close e prob(probabilidades) = 'cp'\n",
    "cp =  pd.concat([prob, close], axis=1)"
   ]
  },
  {
   "cell_type": "code",
   "execution_count": 52,
   "id": "0cddfe1f",
   "metadata": {},
   "outputs": [
    {
     "data": {
      "text/html": [
       "<div>\n",
       "<style scoped>\n",
       "    .dataframe tbody tr th:only-of-type {\n",
       "        vertical-align: middle;\n",
       "    }\n",
       "\n",
       "    .dataframe tbody tr th {\n",
       "        vertical-align: top;\n",
       "    }\n",
       "\n",
       "    .dataframe thead th {\n",
       "        text-align: right;\n",
       "    }\n",
       "</style>\n",
       "<table border=\"1\" class=\"dataframe\">\n",
       "  <thead>\n",
       "    <tr style=\"text-align: right;\">\n",
       "      <th></th>\n",
       "      <th>data</th>\n",
       "      <th>lastprice</th>\n",
       "      <th>probsubir</th>\n",
       "      <th>probsubircorr</th>\n",
       "      <th>probsubirpondpesos</th>\n",
       "      <th>probsubirpondcorrpessos</th>\n",
       "      <th>indc</th>\n",
       "      <th>indv</th>\n",
       "      <th>powerc</th>\n",
       "      <th>powerv</th>\n",
       "      <th>...</th>\n",
       "      <th>closeembr</th>\n",
       "      <th>closemult</th>\n",
       "      <th>closecpfe</th>\n",
       "      <th>closemrve</th>\n",
       "      <th>closemrfg</th>\n",
       "      <th>closeenbr</th>\n",
       "      <th>Ano</th>\n",
       "      <th>Mes</th>\n",
       "      <th>Dia</th>\n",
       "      <th>Hora</th>\n",
       "    </tr>\n",
       "  </thead>\n",
       "  <tbody>\n",
       "    <tr>\n",
       "      <th>0</th>\n",
       "      <td>2020-01-02 09:00:00</td>\n",
       "      <td>117000.0</td>\n",
       "      <td>0.413</td>\n",
       "      <td>0.411</td>\n",
       "      <td>0.311</td>\n",
       "      <td>0.325</td>\n",
       "      <td>5.0</td>\n",
       "      <td>6.0</td>\n",
       "      <td>11.642</td>\n",
       "      <td>-58.525</td>\n",
       "      <td>...</td>\n",
       "      <td>0.0</td>\n",
       "      <td>0.0</td>\n",
       "      <td>0.0</td>\n",
       "      <td>0.0</td>\n",
       "      <td>0.0</td>\n",
       "      <td>0.0</td>\n",
       "      <td>2020</td>\n",
       "      <td>1</td>\n",
       "      <td>2</td>\n",
       "      <td>9</td>\n",
       "    </tr>\n",
       "    <tr>\n",
       "      <th>1</th>\n",
       "      <td>2020-01-02 09:01:00</td>\n",
       "      <td>117020.0</td>\n",
       "      <td>0.413</td>\n",
       "      <td>0.375</td>\n",
       "      <td>0.311</td>\n",
       "      <td>0.333</td>\n",
       "      <td>5.0</td>\n",
       "      <td>6.0</td>\n",
       "      <td>11.642</td>\n",
       "      <td>-58.525</td>\n",
       "      <td>...</td>\n",
       "      <td>0.0</td>\n",
       "      <td>0.0</td>\n",
       "      <td>0.0</td>\n",
       "      <td>0.0</td>\n",
       "      <td>0.0</td>\n",
       "      <td>0.0</td>\n",
       "      <td>2020</td>\n",
       "      <td>1</td>\n",
       "      <td>2</td>\n",
       "      <td>9</td>\n",
       "    </tr>\n",
       "    <tr>\n",
       "      <th>2</th>\n",
       "      <td>2020-01-02 09:02:00</td>\n",
       "      <td>117025.0</td>\n",
       "      <td>0.413</td>\n",
       "      <td>0.250</td>\n",
       "      <td>0.311</td>\n",
       "      <td>0.000</td>\n",
       "      <td>5.0</td>\n",
       "      <td>6.0</td>\n",
       "      <td>11.642</td>\n",
       "      <td>-58.525</td>\n",
       "      <td>...</td>\n",
       "      <td>0.0</td>\n",
       "      <td>0.0</td>\n",
       "      <td>0.0</td>\n",
       "      <td>0.0</td>\n",
       "      <td>0.0</td>\n",
       "      <td>0.0</td>\n",
       "      <td>2020</td>\n",
       "      <td>1</td>\n",
       "      <td>2</td>\n",
       "      <td>9</td>\n",
       "    </tr>\n",
       "  </tbody>\n",
       "</table>\n",
       "<p>3 rows × 99 columns</p>\n",
       "</div>"
      ],
      "text/plain": [
       "                  data  lastprice  probsubir  probsubircorr  \\\n",
       "0  2020-01-02 09:00:00   117000.0      0.413          0.411   \n",
       "1  2020-01-02 09:01:00   117020.0      0.413          0.375   \n",
       "2  2020-01-02 09:02:00   117025.0      0.413          0.250   \n",
       "\n",
       "   probsubirpondpesos  probsubirpondcorrpessos  indc  indv  powerc  powerv  \\\n",
       "0               0.311                    0.325   5.0   6.0  11.642 -58.525   \n",
       "1               0.311                    0.333   5.0   6.0  11.642 -58.525   \n",
       "2               0.311                    0.000   5.0   6.0  11.642 -58.525   \n",
       "\n",
       "   ...  closeembr  closemult  closecpfe  closemrve  closemrfg  closeenbr  \\\n",
       "0  ...        0.0        0.0        0.0        0.0        0.0        0.0   \n",
       "1  ...        0.0        0.0        0.0        0.0        0.0        0.0   \n",
       "2  ...        0.0        0.0        0.0        0.0        0.0        0.0   \n",
       "\n",
       "    Ano  Mes  Dia  Hora  \n",
       "0  2020    1    2     9  \n",
       "1  2020    1    2     9  \n",
       "2  2020    1    2     9  \n",
       "\n",
       "[3 rows x 99 columns]"
      ]
     },
     "execution_count": 52,
     "metadata": {},
     "output_type": "execute_result"
    }
   ],
   "source": [
    "cp.head(3)"
   ]
  },
  {
   "cell_type": "markdown",
   "id": "ac956b73",
   "metadata": {},
   "source": [
    "### ver se tem colunas duplicadas"
   ]
  },
  {
   "cell_type": "code",
   "execution_count": 54,
   "id": "8f34925b",
   "metadata": {},
   "outputs": [
    {
     "data": {
      "text/html": [
       "<div>\n",
       "<style scoped>\n",
       "    .dataframe tbody tr th:only-of-type {\n",
       "        vertical-align: middle;\n",
       "    }\n",
       "\n",
       "    .dataframe tbody tr th {\n",
       "        vertical-align: top;\n",
       "    }\n",
       "\n",
       "    .dataframe thead th {\n",
       "        text-align: right;\n",
       "    }\n",
       "</style>\n",
       "<table border=\"1\" class=\"dataframe\">\n",
       "  <thead>\n",
       "    <tr style=\"text-align: right;\">\n",
       "      <th></th>\n",
       "      <th>Dia</th>\n",
       "      <th>Dia</th>\n",
       "    </tr>\n",
       "  </thead>\n",
       "  <tbody>\n",
       "    <tr>\n",
       "      <th>0</th>\n",
       "      <td>2</td>\n",
       "      <td>2</td>\n",
       "    </tr>\n",
       "    <tr>\n",
       "      <th>1</th>\n",
       "      <td>2</td>\n",
       "      <td>2</td>\n",
       "    </tr>\n",
       "    <tr>\n",
       "      <th>2</th>\n",
       "      <td>2</td>\n",
       "      <td>2</td>\n",
       "    </tr>\n",
       "    <tr>\n",
       "      <th>3</th>\n",
       "      <td>2</td>\n",
       "      <td>2</td>\n",
       "    </tr>\n",
       "    <tr>\n",
       "      <th>4</th>\n",
       "      <td>2</td>\n",
       "      <td>2</td>\n",
       "    </tr>\n",
       "    <tr>\n",
       "      <th>...</th>\n",
       "      <td>...</td>\n",
       "      <td>...</td>\n",
       "    </tr>\n",
       "    <tr>\n",
       "      <th>144243</th>\n",
       "      <td>29</td>\n",
       "      <td>29</td>\n",
       "    </tr>\n",
       "    <tr>\n",
       "      <th>144244</th>\n",
       "      <td>29</td>\n",
       "      <td>29</td>\n",
       "    </tr>\n",
       "    <tr>\n",
       "      <th>144245</th>\n",
       "      <td>29</td>\n",
       "      <td>29</td>\n",
       "    </tr>\n",
       "    <tr>\n",
       "      <th>144246</th>\n",
       "      <td>29</td>\n",
       "      <td>29</td>\n",
       "    </tr>\n",
       "    <tr>\n",
       "      <th>144247</th>\n",
       "      <td>29</td>\n",
       "      <td>29</td>\n",
       "    </tr>\n",
       "  </tbody>\n",
       "</table>\n",
       "<p>144248 rows × 2 columns</p>\n",
       "</div>"
      ],
      "text/plain": [
       "        Dia  Dia\n",
       "0         2    2\n",
       "1         2    2\n",
       "2         2    2\n",
       "3         2    2\n",
       "4         2    2\n",
       "...     ...  ...\n",
       "144243   29   29\n",
       "144244   29   29\n",
       "144245   29   29\n",
       "144246   29   29\n",
       "144247   29   29\n",
       "\n",
       "[144248 rows x 2 columns]"
      ]
     },
     "execution_count": 54,
     "metadata": {},
     "output_type": "execute_result"
    }
   ],
   "source": [
    "# a mesma coisa é cp['Dia']\n",
    "cp.Dia"
   ]
  },
  {
   "cell_type": "code",
   "execution_count": 55,
   "id": "3d3b6bff",
   "metadata": {},
   "outputs": [],
   "source": [
    "# tiramos as colunas duplicadas\n",
    "cp = cp.loc[:,~cp.columns.duplicated()]"
   ]
  },
  {
   "cell_type": "code",
   "execution_count": 59,
   "id": "c63520be",
   "metadata": {},
   "outputs": [
    {
     "data": {
      "text/html": [
       "<div>\n",
       "<style scoped>\n",
       "    .dataframe tbody tr th:only-of-type {\n",
       "        vertical-align: middle;\n",
       "    }\n",
       "\n",
       "    .dataframe tbody tr th {\n",
       "        vertical-align: top;\n",
       "    }\n",
       "\n",
       "    .dataframe thead th {\n",
       "        text-align: right;\n",
       "    }\n",
       "</style>\n",
       "<table border=\"1\" class=\"dataframe\">\n",
       "  <thead>\n",
       "    <tr style=\"text-align: right;\">\n",
       "      <th></th>\n",
       "      <th>data</th>\n",
       "      <th>lastprice</th>\n",
       "      <th>probsubir</th>\n",
       "      <th>probsubircorr</th>\n",
       "      <th>probsubirpondpesos</th>\n",
       "      <th>probsubirpondcorrpessos</th>\n",
       "      <th>indc</th>\n",
       "      <th>indv</th>\n",
       "      <th>powerc</th>\n",
       "      <th>powerv</th>\n",
       "      <th>...</th>\n",
       "      <th>closebrml</th>\n",
       "      <th>closecrfb</th>\n",
       "      <th>closetaee</th>\n",
       "      <th>closebrkm</th>\n",
       "      <th>closeembr</th>\n",
       "      <th>closemult</th>\n",
       "      <th>closecpfe</th>\n",
       "      <th>closemrve</th>\n",
       "      <th>closemrfg</th>\n",
       "      <th>closeenbr</th>\n",
       "    </tr>\n",
       "  </thead>\n",
       "  <tbody>\n",
       "    <tr>\n",
       "      <th>0</th>\n",
       "      <td>2020-01-02 09:00:00</td>\n",
       "      <td>117000.0</td>\n",
       "      <td>0.413</td>\n",
       "      <td>0.411</td>\n",
       "      <td>0.311</td>\n",
       "      <td>0.325</td>\n",
       "      <td>5.0</td>\n",
       "      <td>6.0</td>\n",
       "      <td>11.642</td>\n",
       "      <td>-58.525</td>\n",
       "      <td>...</td>\n",
       "      <td>0.0</td>\n",
       "      <td>0.0</td>\n",
       "      <td>0.0</td>\n",
       "      <td>0.0</td>\n",
       "      <td>0.0</td>\n",
       "      <td>0.0</td>\n",
       "      <td>0.0</td>\n",
       "      <td>0.0</td>\n",
       "      <td>0.0</td>\n",
       "      <td>0.0</td>\n",
       "    </tr>\n",
       "    <tr>\n",
       "      <th>1</th>\n",
       "      <td>2020-01-02 09:01:00</td>\n",
       "      <td>117020.0</td>\n",
       "      <td>0.413</td>\n",
       "      <td>0.375</td>\n",
       "      <td>0.311</td>\n",
       "      <td>0.333</td>\n",
       "      <td>5.0</td>\n",
       "      <td>6.0</td>\n",
       "      <td>11.642</td>\n",
       "      <td>-58.525</td>\n",
       "      <td>...</td>\n",
       "      <td>0.0</td>\n",
       "      <td>0.0</td>\n",
       "      <td>0.0</td>\n",
       "      <td>0.0</td>\n",
       "      <td>0.0</td>\n",
       "      <td>0.0</td>\n",
       "      <td>0.0</td>\n",
       "      <td>0.0</td>\n",
       "      <td>0.0</td>\n",
       "      <td>0.0</td>\n",
       "    </tr>\n",
       "    <tr>\n",
       "      <th>2</th>\n",
       "      <td>2020-01-02 09:02:00</td>\n",
       "      <td>117025.0</td>\n",
       "      <td>0.413</td>\n",
       "      <td>0.250</td>\n",
       "      <td>0.311</td>\n",
       "      <td>0.000</td>\n",
       "      <td>5.0</td>\n",
       "      <td>6.0</td>\n",
       "      <td>11.642</td>\n",
       "      <td>-58.525</td>\n",
       "      <td>...</td>\n",
       "      <td>0.0</td>\n",
       "      <td>0.0</td>\n",
       "      <td>0.0</td>\n",
       "      <td>0.0</td>\n",
       "      <td>0.0</td>\n",
       "      <td>0.0</td>\n",
       "      <td>0.0</td>\n",
       "      <td>0.0</td>\n",
       "      <td>0.0</td>\n",
       "      <td>0.0</td>\n",
       "    </tr>\n",
       "  </tbody>\n",
       "</table>\n",
       "<p>3 rows × 93 columns</p>\n",
       "</div>"
      ],
      "text/plain": [
       "                  data  lastprice  probsubir  probsubircorr  \\\n",
       "0  2020-01-02 09:00:00   117000.0      0.413          0.411   \n",
       "1  2020-01-02 09:01:00   117020.0      0.413          0.375   \n",
       "2  2020-01-02 09:02:00   117025.0      0.413          0.250   \n",
       "\n",
       "   probsubirpondpesos  probsubirpondcorrpessos  indc  indv  powerc  powerv  \\\n",
       "0               0.311                    0.325   5.0   6.0  11.642 -58.525   \n",
       "1               0.311                    0.333   5.0   6.0  11.642 -58.525   \n",
       "2               0.311                    0.000   5.0   6.0  11.642 -58.525   \n",
       "\n",
       "   ...  closebrml  closecrfb  closetaee  closebrkm  closeembr  closemult  \\\n",
       "0  ...        0.0        0.0        0.0        0.0        0.0        0.0   \n",
       "1  ...        0.0        0.0        0.0        0.0        0.0        0.0   \n",
       "2  ...        0.0        0.0        0.0        0.0        0.0        0.0   \n",
       "\n",
       "   closecpfe  closemrve  closemrfg  closeenbr  \n",
       "0        0.0        0.0        0.0        0.0  \n",
       "1        0.0        0.0        0.0        0.0  \n",
       "2        0.0        0.0        0.0        0.0  \n",
       "\n",
       "[3 rows x 93 columns]"
      ]
     },
     "execution_count": 59,
     "metadata": {},
     "output_type": "execute_result"
    }
   ],
   "source": [
    "cp.head(3)"
   ]
  },
  {
   "cell_type": "code",
   "execution_count": 60,
   "id": "48588def",
   "metadata": {},
   "outputs": [
    {
     "data": {
      "text/plain": [
       "Index(['data', 'lastprice', 'probsubir', 'probsubircorr', 'probsubirpondpesos',\n",
       "       'probsubirpondcorrpessos', 'indc', 'indv', 'powerc', 'powerv',\n",
       "       'probcurtoc', 'probmedioc', 'problongoc', 'probcurtosobe',\n",
       "       'probmediosobe', 'problongosobe', 'Ano', 'Mes', 'Dia', 'Hora', 'bova11',\n",
       "       'closevale', 'closeitub', 'closepetr', 'closeb3sa', 'closebbdc',\n",
       "       'closepetr.1', 'closeabev', 'closewege', 'closemglu', 'closeitsa',\n",
       "       'closegndi', 'closebbas', 'closesuzb', 'closentco', 'closerent',\n",
       "       'closejbss', 'closelren', 'closeggbr', 'closebbdc.1', 'closeugpa',\n",
       "       'closebrdt', 'closeradl', 'closecsna', 'closevvar', 'closerail',\n",
       "       'closeklbn', 'closeeqtl', 'closebpac', 'closelame', 'closebbse',\n",
       "       'closevivt', 'closehapv', 'closeenev', 'closebrfs', 'closebrap',\n",
       "       'closesanb', 'closesbsp', 'closecmig', 'closeccro', 'closebtow',\n",
       "       'closehype', 'closetots', 'closeelet', 'closeengi', 'closepcar',\n",
       "       'closeazul', 'closesula', 'closetims', 'closeegie', 'closecsan',\n",
       "       'closeyduq', 'closeprio', 'closeirbr', 'closequal', 'closelcam',\n",
       "       'closecple', 'closecogn', 'closegoau', 'closeelet.1', 'closeusim',\n",
       "       'closeflry', 'closecyre', 'closebrml', 'closecrfb', 'closetaee',\n",
       "       'closebrkm', 'closeembr', 'closemult', 'closecpfe', 'closemrve',\n",
       "       'closemrfg', 'closeenbr'],\n",
       "      dtype='object')"
      ]
     },
     "execution_count": 60,
     "metadata": {},
     "output_type": "execute_result"
    }
   ],
   "source": [
    "cp.columns"
   ]
  },
  {
   "cell_type": "code",
   "execution_count": 61,
   "id": "64eef4d3",
   "metadata": {},
   "outputs": [
    {
     "data": {
      "text/plain": [
       "(144248, 93)"
      ]
     },
     "execution_count": 61,
     "metadata": {},
     "output_type": "execute_result"
    }
   ],
   "source": [
    "cp.shape"
   ]
  },
  {
   "cell_type": "code",
   "execution_count": 62,
   "id": "e4b51537",
   "metadata": {},
   "outputs": [
    {
     "data": {
      "text/plain": [
       "data                      0\n",
       "lastprice                 0\n",
       "probsubir                 0\n",
       "probsubircorr           956\n",
       "probsubirpondpesos        0\n",
       "                      ...  \n",
       "closemult             17571\n",
       "closecpfe             16851\n",
       "closemrve             17602\n",
       "closemrfg             18060\n",
       "closeenbr             16980\n",
       "Length: 93, dtype: int64"
      ]
     },
     "execution_count": 62,
     "metadata": {},
     "output_type": "execute_result"
    }
   ],
   "source": [
    "# contamos o numero de ceros das colunas\n",
    "cp.isin([0]).sum()"
   ]
  },
  {
   "cell_type": "code",
   "execution_count": 64,
   "id": "4e613a88",
   "metadata": {},
   "outputs": [
    {
     "data": {
      "text/plain": [
       "closepcar             32717\n",
       "closevvar             18642\n",
       "closepetr             18521\n",
       "closeusim             18460\n",
       "closemglu             18446\n",
       "                      ...  \n",
       "Hora                      0\n",
       "probsubirpondpesos        0\n",
       "lastprice                 0\n",
       "probsubir                 0\n",
       "data                      0\n",
       "Length: 93, dtype: int64"
      ]
     },
     "execution_count": 64,
     "metadata": {},
     "output_type": "execute_result"
    }
   ],
   "source": [
    "cp.isin([0]).sum().sort_values(ascending=False)"
   ]
  },
  {
   "cell_type": "code",
   "execution_count": 65,
   "id": "d09c9463",
   "metadata": {},
   "outputs": [],
   "source": [
    "# copiamos a base de dados\n",
    "c = cp.copy()"
   ]
  },
  {
   "cell_type": "code",
   "execution_count": 67,
   "id": "329d4176",
   "metadata": {},
   "outputs": [
    {
     "data": {
      "text/plain": [
       "0          True\n",
       "1          True\n",
       "2          True\n",
       "3          True\n",
       "4          True\n",
       "          ...  \n",
       "144243    False\n",
       "144244    False\n",
       "144245    False\n",
       "144246    False\n",
       "144247    False\n",
       "Name: closepetr, Length: 144248, dtype: bool"
      ]
     },
     "execution_count": 67,
     "metadata": {},
     "output_type": "execute_result"
    }
   ],
   "source": [
    "# vamos dropar os valores ceros da coluna petrobras\n",
    "c['closepetr'] == 0"
   ]
  },
  {
   "cell_type": "code",
   "execution_count": 68,
   "id": "85a7b5e9",
   "metadata": {},
   "outputs": [
    {
     "data": {
      "text/plain": [
       "(144248, 93)"
      ]
     },
     "execution_count": 68,
     "metadata": {},
     "output_type": "execute_result"
    }
   ],
   "source": [
    "c.shape"
   ]
  },
  {
   "cell_type": "code",
   "execution_count": 69,
   "id": "a6f8c1bf",
   "metadata": {},
   "outputs": [],
   "source": [
    "# Retirar a petrobras se retirarmos Close_PCAR vamos peder muitos dados:\n",
    "\n",
    "c.drop(c.index[c['closepetr'] == 0], inplace = True)"
   ]
  },
  {
   "cell_type": "code",
   "execution_count": 70,
   "id": "4cb422b3",
   "metadata": {},
   "outputs": [
    {
     "data": {
      "text/plain": [
       "(125727, 93)"
      ]
     },
     "execution_count": 70,
     "metadata": {},
     "output_type": "execute_result"
    }
   ],
   "source": [
    "c.shape"
   ]
  },
  {
   "cell_type": "code",
   "execution_count": 71,
   "id": "59ac440b",
   "metadata": {},
   "outputs": [
    {
     "data": {
      "text/html": [
       "<div>\n",
       "<style scoped>\n",
       "    .dataframe tbody tr th:only-of-type {\n",
       "        vertical-align: middle;\n",
       "    }\n",
       "\n",
       "    .dataframe tbody tr th {\n",
       "        vertical-align: top;\n",
       "    }\n",
       "\n",
       "    .dataframe thead th {\n",
       "        text-align: right;\n",
       "    }\n",
       "</style>\n",
       "<table border=\"1\" class=\"dataframe\">\n",
       "  <thead>\n",
       "    <tr style=\"text-align: right;\">\n",
       "      <th></th>\n",
       "      <th>data</th>\n",
       "      <th>lastprice</th>\n",
       "      <th>probsubir</th>\n",
       "      <th>probsubircorr</th>\n",
       "      <th>probsubirpondpesos</th>\n",
       "      <th>probsubirpondcorrpessos</th>\n",
       "      <th>indc</th>\n",
       "      <th>indv</th>\n",
       "      <th>powerc</th>\n",
       "      <th>powerv</th>\n",
       "      <th>...</th>\n",
       "      <th>closebrml</th>\n",
       "      <th>closecrfb</th>\n",
       "      <th>closetaee</th>\n",
       "      <th>closebrkm</th>\n",
       "      <th>closeembr</th>\n",
       "      <th>closemult</th>\n",
       "      <th>closecpfe</th>\n",
       "      <th>closemrve</th>\n",
       "      <th>closemrfg</th>\n",
       "      <th>closeenbr</th>\n",
       "    </tr>\n",
       "  </thead>\n",
       "  <tbody>\n",
       "    <tr>\n",
       "      <th>71</th>\n",
       "      <td>2020-01-02 10:12:00</td>\n",
       "      <td>116945.0</td>\n",
       "      <td>0.660</td>\n",
       "      <td>0.750</td>\n",
       "      <td>0.724</td>\n",
       "      <td>0.774</td>\n",
       "      <td>19.0</td>\n",
       "      <td>2.0</td>\n",
       "      <td>30.360</td>\n",
       "      <td>-154.484</td>\n",
       "      <td>...</td>\n",
       "      <td>18.15</td>\n",
       "      <td>23.01</td>\n",
       "      <td>28.13</td>\n",
       "      <td>30.46</td>\n",
       "      <td>20.10</td>\n",
       "      <td>32.63</td>\n",
       "      <td>33.83</td>\n",
       "      <td>21.06</td>\n",
       "      <td>10.00</td>\n",
       "      <td>21.53</td>\n",
       "    </tr>\n",
       "    <tr>\n",
       "      <th>72</th>\n",
       "      <td>2020-01-02 10:13:00</td>\n",
       "      <td>117050.0</td>\n",
       "      <td>0.653</td>\n",
       "      <td>0.714</td>\n",
       "      <td>0.708</td>\n",
       "      <td>0.781</td>\n",
       "      <td>18.0</td>\n",
       "      <td>1.0</td>\n",
       "      <td>29.572</td>\n",
       "      <td>-298.919</td>\n",
       "      <td>...</td>\n",
       "      <td>18.16</td>\n",
       "      <td>23.01</td>\n",
       "      <td>28.15</td>\n",
       "      <td>30.50</td>\n",
       "      <td>20.11</td>\n",
       "      <td>32.65</td>\n",
       "      <td>33.85</td>\n",
       "      <td>21.08</td>\n",
       "      <td>10.06</td>\n",
       "      <td>21.53</td>\n",
       "    </tr>\n",
       "    <tr>\n",
       "      <th>73</th>\n",
       "      <td>2020-01-02 10:14:00</td>\n",
       "      <td>117030.0</td>\n",
       "      <td>0.628</td>\n",
       "      <td>0.679</td>\n",
       "      <td>0.680</td>\n",
       "      <td>0.750</td>\n",
       "      <td>17.0</td>\n",
       "      <td>1.0</td>\n",
       "      <td>29.441</td>\n",
       "      <td>-298.919</td>\n",
       "      <td>...</td>\n",
       "      <td>18.14</td>\n",
       "      <td>23.01</td>\n",
       "      <td>28.15</td>\n",
       "      <td>30.37</td>\n",
       "      <td>20.13</td>\n",
       "      <td>32.62</td>\n",
       "      <td>33.86</td>\n",
       "      <td>21.07</td>\n",
       "      <td>10.04</td>\n",
       "      <td>21.56</td>\n",
       "    </tr>\n",
       "  </tbody>\n",
       "</table>\n",
       "<p>3 rows × 93 columns</p>\n",
       "</div>"
      ],
      "text/plain": [
       "                   data  lastprice  probsubir  probsubircorr  \\\n",
       "71  2020-01-02 10:12:00   116945.0      0.660          0.750   \n",
       "72  2020-01-02 10:13:00   117050.0      0.653          0.714   \n",
       "73  2020-01-02 10:14:00   117030.0      0.628          0.679   \n",
       "\n",
       "    probsubirpondpesos  probsubirpondcorrpessos  indc  indv  powerc   powerv  \\\n",
       "71               0.724                    0.774  19.0   2.0  30.360 -154.484   \n",
       "72               0.708                    0.781  18.0   1.0  29.572 -298.919   \n",
       "73               0.680                    0.750  17.0   1.0  29.441 -298.919   \n",
       "\n",
       "    ...  closebrml  closecrfb  closetaee  closebrkm  closeembr  closemult  \\\n",
       "71  ...      18.15      23.01      28.13      30.46      20.10      32.63   \n",
       "72  ...      18.16      23.01      28.15      30.50      20.11      32.65   \n",
       "73  ...      18.14      23.01      28.15      30.37      20.13      32.62   \n",
       "\n",
       "    closecpfe  closemrve  closemrfg  closeenbr  \n",
       "71      33.83      21.06      10.00      21.53  \n",
       "72      33.85      21.08      10.06      21.53  \n",
       "73      33.86      21.07      10.04      21.56  \n",
       "\n",
       "[3 rows x 93 columns]"
      ]
     },
     "execution_count": 71,
     "metadata": {},
     "output_type": "execute_result"
    }
   ],
   "source": [
    "c.head(3)"
   ]
  },
  {
   "cell_type": "code",
   "execution_count": 72,
   "id": "3219cbf5",
   "metadata": {},
   "outputs": [],
   "source": [
    "# setamos a data como indice\n",
    "c = c.set_index('data')"
   ]
  },
  {
   "cell_type": "code",
   "execution_count": 73,
   "id": "b681ff30",
   "metadata": {},
   "outputs": [
    {
     "data": {
      "text/html": [
       "<div>\n",
       "<style scoped>\n",
       "    .dataframe tbody tr th:only-of-type {\n",
       "        vertical-align: middle;\n",
       "    }\n",
       "\n",
       "    .dataframe tbody tr th {\n",
       "        vertical-align: top;\n",
       "    }\n",
       "\n",
       "    .dataframe thead th {\n",
       "        text-align: right;\n",
       "    }\n",
       "</style>\n",
       "<table border=\"1\" class=\"dataframe\">\n",
       "  <thead>\n",
       "    <tr style=\"text-align: right;\">\n",
       "      <th></th>\n",
       "      <th>lastprice</th>\n",
       "      <th>probsubir</th>\n",
       "      <th>probsubircorr</th>\n",
       "      <th>probsubirpondpesos</th>\n",
       "      <th>probsubirpondcorrpessos</th>\n",
       "      <th>indc</th>\n",
       "      <th>indv</th>\n",
       "      <th>powerc</th>\n",
       "      <th>powerv</th>\n",
       "      <th>probcurtoc</th>\n",
       "      <th>...</th>\n",
       "      <th>closebrml</th>\n",
       "      <th>closecrfb</th>\n",
       "      <th>closetaee</th>\n",
       "      <th>closebrkm</th>\n",
       "      <th>closeembr</th>\n",
       "      <th>closemult</th>\n",
       "      <th>closecpfe</th>\n",
       "      <th>closemrve</th>\n",
       "      <th>closemrfg</th>\n",
       "      <th>closeenbr</th>\n",
       "    </tr>\n",
       "    <tr>\n",
       "      <th>data</th>\n",
       "      <th></th>\n",
       "      <th></th>\n",
       "      <th></th>\n",
       "      <th></th>\n",
       "      <th></th>\n",
       "      <th></th>\n",
       "      <th></th>\n",
       "      <th></th>\n",
       "      <th></th>\n",
       "      <th></th>\n",
       "      <th></th>\n",
       "      <th></th>\n",
       "      <th></th>\n",
       "      <th></th>\n",
       "      <th></th>\n",
       "      <th></th>\n",
       "      <th></th>\n",
       "      <th></th>\n",
       "      <th></th>\n",
       "      <th></th>\n",
       "      <th></th>\n",
       "    </tr>\n",
       "  </thead>\n",
       "  <tbody>\n",
       "    <tr>\n",
       "      <th>2020-01-02 10:12:00</th>\n",
       "      <td>116945.0</td>\n",
       "      <td>0.660</td>\n",
       "      <td>0.750</td>\n",
       "      <td>0.724</td>\n",
       "      <td>0.774</td>\n",
       "      <td>19.0</td>\n",
       "      <td>2.0</td>\n",
       "      <td>30.360</td>\n",
       "      <td>-154.484</td>\n",
       "      <td>0.759</td>\n",
       "      <td>...</td>\n",
       "      <td>18.15</td>\n",
       "      <td>23.01</td>\n",
       "      <td>28.13</td>\n",
       "      <td>30.46</td>\n",
       "      <td>20.10</td>\n",
       "      <td>32.63</td>\n",
       "      <td>33.83</td>\n",
       "      <td>21.06</td>\n",
       "      <td>10.00</td>\n",
       "      <td>21.53</td>\n",
       "    </tr>\n",
       "    <tr>\n",
       "      <th>2020-01-02 10:13:00</th>\n",
       "      <td>117050.0</td>\n",
       "      <td>0.653</td>\n",
       "      <td>0.714</td>\n",
       "      <td>0.708</td>\n",
       "      <td>0.781</td>\n",
       "      <td>18.0</td>\n",
       "      <td>1.0</td>\n",
       "      <td>29.572</td>\n",
       "      <td>-298.919</td>\n",
       "      <td>0.765</td>\n",
       "      <td>...</td>\n",
       "      <td>18.16</td>\n",
       "      <td>23.01</td>\n",
       "      <td>28.15</td>\n",
       "      <td>30.50</td>\n",
       "      <td>20.11</td>\n",
       "      <td>32.65</td>\n",
       "      <td>33.85</td>\n",
       "      <td>21.08</td>\n",
       "      <td>10.06</td>\n",
       "      <td>21.53</td>\n",
       "    </tr>\n",
       "    <tr>\n",
       "      <th>2020-01-02 10:14:00</th>\n",
       "      <td>117030.0</td>\n",
       "      <td>0.628</td>\n",
       "      <td>0.679</td>\n",
       "      <td>0.680</td>\n",
       "      <td>0.750</td>\n",
       "      <td>17.0</td>\n",
       "      <td>1.0</td>\n",
       "      <td>29.441</td>\n",
       "      <td>-298.919</td>\n",
       "      <td>0.720</td>\n",
       "      <td>...</td>\n",
       "      <td>18.14</td>\n",
       "      <td>23.01</td>\n",
       "      <td>28.15</td>\n",
       "      <td>30.37</td>\n",
       "      <td>20.13</td>\n",
       "      <td>32.62</td>\n",
       "      <td>33.86</td>\n",
       "      <td>21.07</td>\n",
       "      <td>10.04</td>\n",
       "      <td>21.56</td>\n",
       "    </tr>\n",
       "  </tbody>\n",
       "</table>\n",
       "<p>3 rows × 92 columns</p>\n",
       "</div>"
      ],
      "text/plain": [
       "                     lastprice  probsubir  probsubircorr  probsubirpondpesos  \\\n",
       "data                                                                           \n",
       "2020-01-02 10:12:00   116945.0      0.660          0.750               0.724   \n",
       "2020-01-02 10:13:00   117050.0      0.653          0.714               0.708   \n",
       "2020-01-02 10:14:00   117030.0      0.628          0.679               0.680   \n",
       "\n",
       "                     probsubirpondcorrpessos  indc  indv  powerc   powerv  \\\n",
       "data                                                                        \n",
       "2020-01-02 10:12:00                    0.774  19.0   2.0  30.360 -154.484   \n",
       "2020-01-02 10:13:00                    0.781  18.0   1.0  29.572 -298.919   \n",
       "2020-01-02 10:14:00                    0.750  17.0   1.0  29.441 -298.919   \n",
       "\n",
       "                     probcurtoc  ...  closebrml  closecrfb  closetaee  \\\n",
       "data                             ...                                    \n",
       "2020-01-02 10:12:00       0.759  ...      18.15      23.01      28.13   \n",
       "2020-01-02 10:13:00       0.765  ...      18.16      23.01      28.15   \n",
       "2020-01-02 10:14:00       0.720  ...      18.14      23.01      28.15   \n",
       "\n",
       "                     closebrkm  closeembr  closemult  closecpfe  closemrve  \\\n",
       "data                                                                         \n",
       "2020-01-02 10:12:00      30.46      20.10      32.63      33.83      21.06   \n",
       "2020-01-02 10:13:00      30.50      20.11      32.65      33.85      21.08   \n",
       "2020-01-02 10:14:00      30.37      20.13      32.62      33.86      21.07   \n",
       "\n",
       "                     closemrfg  closeenbr  \n",
       "data                                       \n",
       "2020-01-02 10:12:00      10.00      21.53  \n",
       "2020-01-02 10:13:00      10.06      21.53  \n",
       "2020-01-02 10:14:00      10.04      21.56  \n",
       "\n",
       "[3 rows x 92 columns]"
      ]
     },
     "execution_count": 73,
     "metadata": {},
     "output_type": "execute_result"
    }
   ],
   "source": [
    "c.head(3)"
   ]
  },
  {
   "cell_type": "code",
   "execution_count": 74,
   "id": "10ed2f23",
   "metadata": {},
   "outputs": [],
   "source": [
    "c.to_csv('DADOS_PROCESSADOS.csv')"
   ]
  }
 ],
 "metadata": {
  "kernelspec": {
   "display_name": "Python 3 (ipykernel)",
   "language": "python",
   "name": "python3"
  },
  "language_info": {
   "codemirror_mode": {
    "name": "ipython",
    "version": 3
   },
   "file_extension": ".py",
   "mimetype": "text/x-python",
   "name": "python",
   "nbconvert_exporter": "python",
   "pygments_lexer": "ipython3",
   "version": "3.8.8"
  }
 },
 "nbformat": 4,
 "nbformat_minor": 5
}
